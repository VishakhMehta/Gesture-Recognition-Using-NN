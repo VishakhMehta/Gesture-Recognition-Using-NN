{
  "nbformat": 4,
  "nbformat_minor": 0,
  "metadata": {
    "colab": {
      "name": "Final Code.ipynb",
      "provenance": [],
      "collapsed_sections": []
    },
    "kernelspec": {
      "display_name": "Python 3",
      "language": "python",
      "name": "python3"
    },
    "language_info": {
      "codemirror_mode": {
        "name": "ipython",
        "version": 3
      },
      "file_extension": ".py",
      "mimetype": "text/x-python",
      "name": "python",
      "nbconvert_exporter": "python",
      "pygments_lexer": "ipython3",
      "version": "3.6.9"
    }
  },
  "cells": [
    {
      "cell_type": "markdown",
      "metadata": {
        "id": "NqLDng3zy6Fv"
      },
      "source": [
        "# Gesture Recognition\n",
        "In this group project, you are going to build a 3D Conv model that will be able to predict the 5 gestures correctly. Please import the following libraries to get started."
      ]
    },
    {
      "cell_type": "code",
      "metadata": {
        "id": "UaNeG8bMy6Fx"
      },
      "source": [
        "import numpy as np\n",
        "import os\n",
        "from imageio import imread\n",
        "#from scipy.misc import imresize\n",
        "import PIL\n",
        "import datetime\n",
        "import skimage\n",
        "from skimage.transform import resize\n",
        "import matplotlib.pyplot as plt\n",
        "import warnings\n",
        "warnings.filterwarnings('ignore')"
      ],
      "execution_count": 1,
      "outputs": []
    },
    {
      "cell_type": "markdown",
      "metadata": {
        "id": "K2KJU__hy6Fy"
      },
      "source": [
        "We set the random seed so that the results don't vary drastically."
      ]
    },
    {
      "cell_type": "code",
      "metadata": {
        "colab": {
          "base_uri": "https://localhost:8080/"
        },
        "id": "ccmEQh0MkV2a",
        "outputId": "4d16e8fb-ac24-413e-a9ea-cbc66d6f23f5"
      },
      "source": [
        "pip install keras"
      ],
      "execution_count": 2,
      "outputs": [
        {
          "output_type": "stream",
          "text": [
            "Requirement already satisfied: keras in /usr/local/lib/python3.7/dist-packages (2.4.3)\n",
            "Requirement already satisfied: numpy>=1.9.1 in /usr/local/lib/python3.7/dist-packages (from keras) (1.19.5)\n",
            "Requirement already satisfied: scipy>=0.14 in /usr/local/lib/python3.7/dist-packages (from keras) (1.4.1)\n",
            "Requirement already satisfied: pyyaml in /usr/local/lib/python3.7/dist-packages (from keras) (3.13)\n",
            "Requirement already satisfied: h5py in /usr/local/lib/python3.7/dist-packages (from keras) (3.1.0)\n",
            "Requirement already satisfied: cached-property; python_version < \"3.8\" in /usr/local/lib/python3.7/dist-packages (from h5py->keras) (1.5.2)\n"
          ],
          "name": "stdout"
        }
      ]
    },
    {
      "cell_type": "code",
      "metadata": {
        "id": "AKbJVBcPy6Fy"
      },
      "source": [
        "np.random.seed(30)\n",
        "import random as rn\n",
        "rn.seed(30)\n",
        "from keras import backend as K\n",
        "import tensorflow as tf\n",
        "tf.random.set_seed(30)\n",
        "#tf.set_random_seed(30)"
      ],
      "execution_count": 3,
      "outputs": []
    },
    {
      "cell_type": "markdown",
      "metadata": {
        "id": "onIwVa-Vy6Fz"
      },
      "source": [
        "In this block, you read the folder names for training and validation. You also set the `batch_size` here. Note that you set the batch size in such a way that you are able to use the GPU in full capacity. You keep increasing the batch size until the machine throws an error."
      ]
    },
    {
      "cell_type": "code",
      "metadata": {
        "colab": {
          "base_uri": "https://localhost:8080/"
        },
        "id": "x1FHserEUNMO",
        "outputId": "729dbda4-c76c-4099-c510-d1d7c8375dc6"
      },
      "source": [
        "from google.colab import drive\n",
        "\n",
        "drive.mount('/content/gdrive')"
      ],
      "execution_count": 4,
      "outputs": [
        {
          "output_type": "stream",
          "text": [
            "Drive already mounted at /content/gdrive; to attempt to forcibly remount, call drive.mount(\"/content/gdrive\", force_remount=True).\n"
          ],
          "name": "stdout"
        }
      ]
    },
    {
      "cell_type": "code",
      "metadata": {
        "id": "jFggFGqVy6Fz"
      },
      "source": [
        "train_doc = np.random.permutation(open('gdrive/MyDrive/DataSets/ProjectData/Project_data/train.csv').readlines())\n",
        "val_doc = np.random.permutation(open('gdrive/MyDrive/DataSets/ProjectData/Project_data/val.csv').readlines())\n",
        "batch_size = 10 #experiment with the batch size"
      ],
      "execution_count": 5,
      "outputs": []
    },
    {
      "cell_type": "code",
      "metadata": {
        "colab": {
          "base_uri": "https://localhost:8080/"
        },
        "id": "JSiBp3HSfY2B",
        "outputId": "7802da59-42ca-47a5-d3ce-4e040d44c969"
      },
      "source": [
        "print(\"Length of Training Data:\",len(train_doc))\n",
        "print(\"Length of Validation Data:\",len(val_doc))"
      ],
      "execution_count": 6,
      "outputs": [
        {
          "output_type": "stream",
          "text": [
            "Length of Training Data: 663\n",
            "Length of Validation Data: 100\n"
          ],
          "name": "stdout"
        }
      ]
    },
    {
      "cell_type": "markdown",
      "metadata": {
        "id": "3ABVU4EMy6Fz"
      },
      "source": [
        "## Generator\n",
        "This is one of the most important part of the code. The overall structure of the generator has been given. In the generator, you are going to preprocess the images as you have images of 2 different dimensions as well as create a batch of video frames. You have to experiment with `img_idx`, `y`,`z` and normalization such that you get high accuracy."
      ]
    },
    {
      "cell_type": "code",
      "metadata": {
        "id": "2isxB83Km6un"
      },
      "source": [
        "def make3dFilter(x):\n",
        "    return tuple([x]*3)\n",
        "\n",
        "def make2dFilter(x):\n",
        "    return tuple([x]*2)"
      ],
      "execution_count": 7,
      "outputs": []
    },
    {
      "cell_type": "code",
      "metadata": {
        "colab": {
          "base_uri": "https://localhost:8080/"
        },
        "id": "ORcsnDsIboKG",
        "outputId": "43986e6e-e967-4c54-ba1d-121e260ac774"
      },
      "source": [
        "def getImgTensor(n_frames):\n",
        "    img_idx = np.round(np.linspace(0, 29, n_frames)).astype(int)\n",
        "    return [img_idx, 100, 100, 3]\n",
        "\n",
        "# define image tensor size\n",
        "img_tensor = getImgTensor(20)\n",
        "print ('# img_tensor =', img_tensor)"
      ],
      "execution_count": 8,
      "outputs": [
        {
          "output_type": "stream",
          "text": [
            "# img_tensor = [array([ 0,  2,  3,  5,  6,  8,  9, 11, 12, 14, 15, 17, 18, 20, 21, 23, 24,\n",
            "       26, 27, 29]), 100, 100, 3]\n"
          ],
          "name": "stdout"
        }
      ]
    },
    {
      "cell_type": "code",
      "metadata": {
        "id": "L7a1IyLYy6Fz"
      },
      "source": [
        "def generator(source_path, folder_list, batch_size,img_tensor):\n",
        "    print( 'Source path = ', source_path, '; batch size =', batch_size)\n",
        "    [x,y,z] = [len(img_tensor[0]),img_tensor[1], img_tensor[2]]\n",
        "    img_idx = img_tensor[0] #create a list of image numbers you want to use for a particular video\n",
        "    while True:\n",
        "        t = np.random.permutation(folder_list)\n",
        "        num_batches = int(len(t)/batch_size) # calculate the number of batches\n",
        "        for batch in range(num_batches): # we iterate over the number of batches\n",
        "            batch_data = np.zeros((batch_size,x,y,z,3)) # x is the number of images you use for each video, (y,z) is the final size of the input images and 3 is the number of channels RGB\n",
        "            batch_labels = np.zeros((batch_size,5)) # batch_labels is the one hot representation of the output\n",
        "            for folder in range(batch_size): # iterate over the batch_size\n",
        "                imgs = os.listdir(source_path+'/'+ t[folder + (batch*batch_size)].split(';')[0]) # read all the images in the folder\n",
        "                for idx,item in enumerate(img_idx): #  Iterate iver the frames/images of a folder to read them in\n",
        "                    image = imread(source_path+'/'+ t[folder + (batch*batch_size)].strip().split(';')[0]+'/'+imgs[item]).astype(np.float32)\n",
        "                    \n",
        "                    #crop the images and resize them. Note that the images are of 2 different shape \n",
        "                    #and the conv3D will throw error if the inputs in a batch have different shapes\n",
        "                    h = image.shape[0]\n",
        "                    w = image.shape[1]\n",
        "                    # if smaller image crop at center for 120x120\n",
        "                    if w == 160:\n",
        "                        image = image[:120, 20:140]\n",
        "                    resize1 = skimage.transform.resize(image, (y,z))\n",
        "                    modif=resize1/255.0\n",
        "                    \n",
        "\n",
        "                    batch_data[folder,idx,:,:,0] = modif[:, : , 0]\n",
        "                    batch_data[folder,idx,:,:,1] = modif[:, : , 1]\n",
        "                    batch_data[folder,idx,:,:,2] = modif[:, : , 2]\n",
        "                    \n",
        "                batch_labels[folder, int(t[folder + (batch*batch_size)].strip().split(';')[2])] = 1\n",
        "            yield batch_data, batch_labels #you yield the batch_data and the batch_labels, remember what does yield do\n",
        "                   \n",
        "          # write the code for the remaining data points which are left after full batches\n",
        "          # checking if any remaining batches are there or not\n",
        "        if len(folder_list)%batch_size != 0:\n",
        "            batch_size = len(folder_list)%batch_size\n",
        "            for folder in range(batch_size): # iterate over the batch_size\n",
        "                imgs = os.listdir(source_path+'/'+ t[folder + (batch*batch_size)].split(';')[0]) # read all the images in the folder\n",
        "                for idx,item in enumerate(img_idx): #  Iterate iver the frames/images of a folder to read them in\n",
        "                    image = imread(source_path+'/'+ t[folder + (batch*batch_size)].strip().split(';')[0]+'/'+imgs[item]).astype(np.float32)\n",
        "\n",
        "                    #crop the images and resize them. Note that the images are of 2 different shape \n",
        "                    #and the conv3D will throw error if the inputs in a batch have different shapes\n",
        "                    h = image.shape[0]\n",
        "                    w = image.shape[1]\n",
        "                    # if smaller image crop at center for 120x120\n",
        "                    if w == 160:\n",
        "                        image = image[:120, 20:140]\n",
        "                    resize1 = skimage.transform.resize(image, (y,z))\n",
        "                    modif=resize1/255.0\n",
        "\n",
        "                    batch_data[folder,idx,:,:,0] = modif[:, : , 0]\n",
        "                    batch_data[folder,idx,:,:,1] = modif[:, : , 1]\n",
        "                    batch_data[folder,idx,:,:,2] = modif[:, : , 2]\n",
        "                      \n",
        "                batch_labels[folder, int(t[folder + (batch*batch_size)].strip().split(';')[2])] = 1\n",
        "            yield batch_data, batch_labels\n",
        "          \n"
      ],
      "execution_count": 9,
      "outputs": []
    },
    {
      "cell_type": "markdown",
      "metadata": {
        "id": "1venvJW8y6F0"
      },
      "source": [
        "Note here that a video is represented above in the generator as (number of images, height, width, number of channels). Take this into consideration while creating the model architecture."
      ]
    },
    {
      "cell_type": "code",
      "metadata": {
        "colab": {
          "base_uri": "https://localhost:8080/"
        },
        "id": "vVtFzTHqy6F0",
        "outputId": "8a56a3c0-c877-4d0d-898c-f2fc5c12e263"
      },
      "source": [
        "curr_dt_time = datetime.datetime.now()\n",
        "train_path = 'gdrive/MyDrive/DataSets/ProjectData/Project_data/train'\n",
        "val_path = 'gdrive/MyDrive/DataSets/ProjectData/Project_data/val'\n",
        "num_train_sequences = len(train_doc)\n",
        "print('# training sequences =', num_train_sequences)\n",
        "num_val_sequences = len(val_doc)\n",
        "print('# validation sequences =', num_val_sequences)\n",
        "num_epochs = 20 # choose the number of epochs\n",
        "print ('# epochs =', num_epochs)"
      ],
      "execution_count": 10,
      "outputs": [
        {
          "output_type": "stream",
          "text": [
            "# training sequences = 663\n",
            "# validation sequences = 100\n",
            "# epochs = 20\n"
          ],
          "name": "stdout"
        }
      ]
    },
    {
      "cell_type": "code",
      "metadata": {
        "colab": {
          "base_uri": "https://localhost:8080/"
        },
        "id": "79iVjR64BzBI",
        "outputId": "67478d65-27bc-49d1-de6f-39d291934e8f"
      },
      "source": [
        "sample_generator = generator(train_path, train_doc, batch_size,img_tensor)\n",
        "sample_batch_data, sample_batch_labels = next(sample_generator)\n",
        "print(sample_batch_data.shape)"
      ],
      "execution_count": 11,
      "outputs": [
        {
          "output_type": "stream",
          "text": [
            "Source path =  gdrive/MyDrive/DataSets/ProjectData/Project_data/train ; batch size = 10\n",
            "(10, 20, 100, 100, 3)\n"
          ],
          "name": "stdout"
        }
      ]
    },
    {
      "cell_type": "markdown",
      "metadata": {
        "id": "2sjaGQw6y6F1"
      },
      "source": [
        "## Model\n",
        "Here you make the model using different functionalities that Keras provides. Remember to use `Conv3D` and `MaxPooling3D` and not `Conv2D` and `Maxpooling2D` for a 3D convolution model. You would want to use `TimeDistributed` while building a Conv2D + RNN model. Also remember that the last layer is the softmax. Design the network in such a way that the model is able to give good accuracy on the least number of parameters so that it can fit in the memory of the webcam."
      ]
    },
    {
      "cell_type": "markdown",
      "metadata": {
        "id": "ryJs7Rir8fe4"
      },
      "source": [
        "### **BASE MODEL**"
      ]
    },
    {
      "cell_type": "code",
      "metadata": {
        "id": "T0cF8y_qkV2j"
      },
      "source": [
        "from keras.models import Sequential, Model\n",
        "from keras.layers import Dense, GRU, Flatten, TimeDistributed, Flatten, BatchNormalization, Dropout,Activation,LSTM\n",
        "from keras.layers.convolutional import Conv3D, MaxPooling3D,Conv2D,MaxPooling2D\n",
        "from keras.callbacks import ModelCheckpoint, ReduceLROnPlateau\n",
        "from keras import optimizers"
      ],
      "execution_count": 12,
      "outputs": []
    },
    {
      "cell_type": "code",
      "metadata": {
        "id": "eLdAfJviy6F1"
      },
      "source": [
        "#write your model here\n",
        "def Model_1(img_tensor):\n",
        "    inputShape = (len(img_tensor[0]), img_tensor[1], img_tensor[2], img_tensor[3])\n",
        "\n",
        "    model = Sequential([\n",
        "        Conv3D(16, make3dFilter(5), activation='relu', input_shape=inputShape),\n",
        "        MaxPooling3D(make3dFilter(2), padding='same'),\n",
        "        BatchNormalization(),\n",
        "\n",
        "        Conv3D(32, make3dFilter(3), activation='relu'),\n",
        "        MaxPooling3D(pool_size=(1,2,2), padding='same'),\n",
        "        BatchNormalization(),\n",
        "\n",
        "        Conv3D(64, make3dFilter(3), activation='relu'),\n",
        "        MaxPooling3D(pool_size=(1,2,2), padding='same'),\n",
        "        BatchNormalization(),\n",
        "\n",
        "        Flatten(),\n",
        "        Dense(128, activation='relu'),\n",
        "        BatchNormalization(),\n",
        "        Dropout(0.25),\n",
        "\n",
        "        Dense(64, activation='relu'),\n",
        "        BatchNormalization(),\n",
        "        Dropout(0.25),\n",
        "\n",
        "        Dense(5, activation='softmax')\n",
        "    ])\n",
        "    model.compile(optimizer=optimizers.Adam(), loss='categorical_crossentropy', metrics=['categorical_accuracy'])\n",
        "    return model"
      ],
      "execution_count": 13,
      "outputs": []
    },
    {
      "cell_type": "markdown",
      "metadata": {
        "id": "jdEQ6fY1y6F1"
      },
      "source": [
        "Now that you have written the model, the next step is to `compile` the model. When you print the `summary` of the model, you'll see the total number of parameters you have to train."
      ]
    },
    {
      "cell_type": "code",
      "metadata": {
        "colab": {
          "base_uri": "https://localhost:8080/"
        },
        "id": "-5zzbOgPy6F2",
        "scrolled": true,
        "outputId": "4e74380f-5b53-49fc-be30-5e913400890d"
      },
      "source": [
        "model=Model_1(img_tensor)\n",
        "optimiser ='adam' #write your optimizer\n",
        "model.compile(optimizer=optimiser, loss='categorical_crossentropy',metrics=['categorical_accuracy'])\n",
        "print (model.summary())"
      ],
      "execution_count": 14,
      "outputs": [
        {
          "output_type": "stream",
          "text": [
            "Model: \"sequential\"\n",
            "_________________________________________________________________\n",
            "Layer (type)                 Output Shape              Param #   \n",
            "=================================================================\n",
            "conv3d (Conv3D)              (None, 16, 96, 96, 16)    6016      \n",
            "_________________________________________________________________\n",
            "max_pooling3d (MaxPooling3D) (None, 8, 48, 48, 16)     0         \n",
            "_________________________________________________________________\n",
            "batch_normalization (BatchNo (None, 8, 48, 48, 16)     64        \n",
            "_________________________________________________________________\n",
            "conv3d_1 (Conv3D)            (None, 6, 46, 46, 32)     13856     \n",
            "_________________________________________________________________\n",
            "max_pooling3d_1 (MaxPooling3 (None, 6, 23, 23, 32)     0         \n",
            "_________________________________________________________________\n",
            "batch_normalization_1 (Batch (None, 6, 23, 23, 32)     128       \n",
            "_________________________________________________________________\n",
            "conv3d_2 (Conv3D)            (None, 4, 21, 21, 64)     55360     \n",
            "_________________________________________________________________\n",
            "max_pooling3d_2 (MaxPooling3 (None, 4, 11, 11, 64)     0         \n",
            "_________________________________________________________________\n",
            "batch_normalization_2 (Batch (None, 4, 11, 11, 64)     256       \n",
            "_________________________________________________________________\n",
            "flatten (Flatten)            (None, 30976)             0         \n",
            "_________________________________________________________________\n",
            "dense (Dense)                (None, 128)               3965056   \n",
            "_________________________________________________________________\n",
            "batch_normalization_3 (Batch (None, 128)               512       \n",
            "_________________________________________________________________\n",
            "dropout (Dropout)            (None, 128)               0         \n",
            "_________________________________________________________________\n",
            "dense_1 (Dense)              (None, 64)                8256      \n",
            "_________________________________________________________________\n",
            "batch_normalization_4 (Batch (None, 64)                256       \n",
            "_________________________________________________________________\n",
            "dropout_1 (Dropout)          (None, 64)                0         \n",
            "_________________________________________________________________\n",
            "dense_2 (Dense)              (None, 5)                 325       \n",
            "=================================================================\n",
            "Total params: 4,050,085\n",
            "Trainable params: 4,049,477\n",
            "Non-trainable params: 608\n",
            "_________________________________________________________________\n",
            "None\n"
          ],
          "name": "stdout"
        }
      ]
    },
    {
      "cell_type": "markdown",
      "metadata": {
        "id": "jLpJNKXVy6F2"
      },
      "source": [
        "Let us create the `train_generator` and the `val_generator` which will be used in `.fit_generator`."
      ]
    },
    {
      "cell_type": "code",
      "metadata": {
        "id": "xnjJl0sSy6F2"
      },
      "source": [
        "train_generator = generator(train_path, train_doc, batch_size,img_tensor)\n",
        "val_generator = generator(val_path, val_doc, batch_size,img_tensor)"
      ],
      "execution_count": 15,
      "outputs": []
    },
    {
      "cell_type": "code",
      "metadata": {
        "id": "3RFWia8Fy6F2"
      },
      "source": [
        "model_name = 'model_init' + '_' + str(curr_dt_time).replace(' ','').replace(':','_') + '/'\n",
        "    \n",
        "if not os.path.exists(model_name):\n",
        "    os.mkdir(model_name)\n",
        "        \n",
        "filepath = model_name + 'model-{epoch:05d}-{loss:.5f}-{categorical_accuracy:.5f}-{val_loss:.5f}-{val_categorical_accuracy:.5f}.h5'\n",
        "\n",
        "checkpoint = ModelCheckpoint(filepath, monitor='val_loss', verbose=1, save_best_only=False, save_weights_only=False, mode='auto', save_freq=\"epoch\")\n",
        "\n",
        "LR =ReduceLROnPlateau(monitor='val_loss', factor=0.5, verbose=1, patience=4,cooldown=1) # write the REducelronplateau code here\n",
        "callbacks_list = [checkpoint, LR]"
      ],
      "execution_count": 16,
      "outputs": []
    },
    {
      "cell_type": "markdown",
      "metadata": {
        "id": "CN6z-gCCy6F3"
      },
      "source": [
        "The `steps_per_epoch` and `validation_steps` are used by `fit_generator` to decide the number of next() calls it need to make."
      ]
    },
    {
      "cell_type": "code",
      "metadata": {
        "colab": {
          "base_uri": "https://localhost:8080/"
        },
        "id": "bPO25eely6F3",
        "outputId": "16b2df29-a33b-4798-92f8-e74fc7d0f3c0"
      },
      "source": [
        "if (num_train_sequences%batch_size) == 0:\n",
        "    steps_per_epoch = int(num_train_sequences/batch_size)\n",
        "else:\n",
        "    steps_per_epoch = (num_train_sequences//batch_size) + 1\n",
        "\n",
        "if (num_val_sequences%batch_size) == 0:\n",
        "    validation_steps = int(num_val_sequences/batch_size)\n",
        "else:\n",
        "    validation_steps = (num_val_sequences//batch_size) + 1\n",
        "\n",
        "\n",
        "print ('steps_per_epoch %d' % steps_per_epoch)\n",
        "print ('validation_steps %d' % validation_steps)"
      ],
      "execution_count": 17,
      "outputs": [
        {
          "output_type": "stream",
          "text": [
            "steps_per_epoch 67\n",
            "validation_steps 10\n"
          ],
          "name": "stdout"
        }
      ]
    },
    {
      "cell_type": "markdown",
      "metadata": {
        "id": "ObBYK7Rqy6F3"
      },
      "source": [
        "Let us now fit the model. This will start training the model and with the help of the checkpoints, you'll be able to save the model at the end of each epoch."
      ]
    },
    {
      "cell_type": "code",
      "metadata": {
        "colab": {
          "base_uri": "https://localhost:8080/"
        },
        "id": "vwcDFHVNy6F3",
        "outputId": "b60bc118-d12a-48e7-8307-6980c8cac989"
      },
      "source": [
        "try:\n",
        "    model1_history=model.fit(train_generator, steps_per_epoch=steps_per_epoch, epochs=num_epochs, verbose=1, \n",
        "                    callbacks=callbacks_list, validation_data=val_generator, \n",
        "                    validation_steps=validation_steps, class_weight=None, workers=1, initial_epoch=0)\n",
        "\n",
        "except ValueError as ex:\n",
        "      print(ex)\n"
      ],
      "execution_count": null,
      "outputs": [
        {
          "output_type": "stream",
          "text": [
            "Source path =  gdrive/MyDrive/DataSets/ProjectData/Project_data/train ; batch size = 10\n",
            "Epoch 1/20\n",
            "41/67 [=================>............] - ETA: 24:20 - loss: 2.2352 - categorical_accuracy: 0.3173"
          ],
          "name": "stdout"
        }
      ]
    },
    {
      "cell_type": "code",
      "metadata": {
        "id": "5Vc0ABky9FYO"
      },
      "source": [
        "def plottingModelHistory(h):\n",
        "    fig, ax = plt.subplots(1, 2, figsize=(15,4))\n",
        "    ax[0].plot(h.history['loss'])   \n",
        "    ax[0].plot(h.history['val_loss'])\n",
        "    ax[0].legend(['loss','val_loss'])\n",
        "    ax[0].title.set_text(\"Training loss vs Validation loss\")\n",
        "\n",
        "    ax[1].plot(h.history['categorical_accuracy'])   \n",
        "    ax[1].plot(h.history['val_categorical_accuracy'])\n",
        "    ax[1].legend(['categorical_accuracy','val_categorical_accuracy'])\n",
        "    ax[1].title.set_text(\"Training accuracy vs Validation accuracy\")\n",
        "    plt.show()\n",
        "\n",
        "    print('\\033[1m',\"Maximum Training Accuracy\", round(max(h.history['categorical_accuracy'])*100,2),'%')\n",
        "    print('\\033[1m',\"Maximum Validaiton Accuracy\", round(max(h.history['val_categorical_accuracy'])*100,2),'%')"
      ],
      "execution_count": null,
      "outputs": []
    },
    {
      "cell_type": "markdown",
      "metadata": {
        "id": "C8bJ2-Ne8xDt"
      },
      "source": [
        "## With above observations, we can see that batch size is not impacting training time but number of frames. We will use batch size of 64 as it seems optimal. "
      ]
    },
    {
      "cell_type": "code",
      "metadata": {
        "colab": {
          "base_uri": "https://localhost:8080/"
        },
        "id": "M9ov-9wLnYnR",
        "outputId": "cba777b5-0efc-4809-b20e-e6583231a960"
      },
      "source": [
        "#Model 2 - Frames-16, Epoc-20\n",
        "\n",
        "n_frames = 16\n",
        "num_epochs = 20\n",
        "batch_size = 64\n",
        "\n",
        "img_tensor = getImgTensor(n_frames)\n",
        "train_generator = generator(train_path, train_doc, batch_size,img_tensor)\n",
        "val_generator = generator(val_path, val_doc, batch_size,img_tensor)\n",
        "\n",
        "if (num_train_sequences%batch_size) == 0:\n",
        "    steps_per_epoch = int(num_train_sequences/batch_size)\n",
        "else:\n",
        "    steps_per_epoch = (num_train_sequences//batch_size) + 1\n",
        "\n",
        "if (num_val_sequences%batch_size) == 0:\n",
        "    validation_steps = int(num_val_sequences/batch_size)\n",
        "else:\n",
        "    validation_steps = (num_val_sequences//batch_size) + 1\n",
        "    \n",
        "inputShape = (len(img_tensor[0]), img_tensor[1], img_tensor[2], img_tensor[3])\n",
        "\n",
        "model_2 = Sequential([\n",
        "    Conv3D(16, make3dFilter(5), activation='relu', input_shape=inputShape),\n",
        "    MaxPooling3D(make3dFilter(2), padding='same'),\n",
        "    BatchNormalization(),\n",
        "\n",
        "    Conv3D(32, make3dFilter(3), activation='relu'),\n",
        "    MaxPooling3D(pool_size=(1,2,2), padding='same'),\n",
        "    BatchNormalization(),\n",
        "\n",
        "    Conv3D(64, make3dFilter(3), activation='relu'),\n",
        "    MaxPooling3D(pool_size=(1,2,2), padding='same'),\n",
        "    BatchNormalization(),\n",
        "\n",
        "    Flatten(),\n",
        "    Dense(128, activation='relu'),\n",
        "    BatchNormalization(),\n",
        "    Dropout(0.25),\n",
        "\n",
        "    Dense(64, activation='relu'),\n",
        "    BatchNormalization(),\n",
        "    Dropout(0.25),\n",
        "\n",
        "    Dense(5, activation='softmax')\n",
        "], name=\"conv_3d2\")\n",
        "model_2.compile(optimizer=optimizers.Adam(), loss='categorical_crossentropy', metrics=['categorical_accuracy'])\n",
        "print(model_2.summary())\n"
      ],
      "execution_count": null,
      "outputs": [
        {
          "output_type": "stream",
          "text": [
            "Model: \"conv_3d2\"\n",
            "_________________________________________________________________\n",
            "Layer (type)                 Output Shape              Param #   \n",
            "=================================================================\n",
            "conv3d_3 (Conv3D)            (None, 12, 96, 96, 16)    6016      \n",
            "_________________________________________________________________\n",
            "max_pooling3d_3 (MaxPooling3 (None, 6, 48, 48, 16)     0         \n",
            "_________________________________________________________________\n",
            "batch_normalization_5 (Batch (None, 6, 48, 48, 16)     64        \n",
            "_________________________________________________________________\n",
            "conv3d_4 (Conv3D)            (None, 4, 46, 46, 32)     13856     \n",
            "_________________________________________________________________\n",
            "max_pooling3d_4 (MaxPooling3 (None, 4, 23, 23, 32)     0         \n",
            "_________________________________________________________________\n",
            "batch_normalization_6 (Batch (None, 4, 23, 23, 32)     128       \n",
            "_________________________________________________________________\n",
            "conv3d_5 (Conv3D)            (None, 2, 21, 21, 64)     55360     \n",
            "_________________________________________________________________\n",
            "max_pooling3d_5 (MaxPooling3 (None, 2, 11, 11, 64)     0         \n",
            "_________________________________________________________________\n",
            "batch_normalization_7 (Batch (None, 2, 11, 11, 64)     256       \n",
            "_________________________________________________________________\n",
            "flatten_1 (Flatten)          (None, 15488)             0         \n",
            "_________________________________________________________________\n",
            "dense_3 (Dense)              (None, 128)               1982592   \n",
            "_________________________________________________________________\n",
            "batch_normalization_8 (Batch (None, 128)               512       \n",
            "_________________________________________________________________\n",
            "dropout_2 (Dropout)          (None, 128)               0         \n",
            "_________________________________________________________________\n",
            "dense_4 (Dense)              (None, 64)                8256      \n",
            "_________________________________________________________________\n",
            "batch_normalization_9 (Batch (None, 64)                256       \n",
            "_________________________________________________________________\n",
            "dropout_3 (Dropout)          (None, 64)                0         \n",
            "_________________________________________________________________\n",
            "dense_5 (Dense)              (None, 5)                 325       \n",
            "=================================================================\n",
            "Total params: 2,067,621\n",
            "Trainable params: 2,067,013\n",
            "Non-trainable params: 608\n",
            "_________________________________________________________________\n",
            "None\n"
          ],
          "name": "stdout"
        }
      ]
    },
    {
      "cell_type": "code",
      "metadata": {
        "colab": {
          "base_uri": "https://localhost:8080/"
        },
        "id": "9bfhkPgRnlrA",
        "outputId": "fcdcd2ba-e2c5-4adb-a619-2af151551c1e"
      },
      "source": [
        "model_2_history = model_2.fit_generator(train_generator, steps_per_epoch=steps_per_epoch, epochs=num_epochs, verbose=1, \n",
        "            callbacks=callbacks_list, validation_data=val_generator, \n",
        "            validation_steps=validation_steps, class_weight=None, workers=1, initial_epoch=0)"
      ],
      "execution_count": null,
      "outputs": [
        {
          "output_type": "stream",
          "text": [
            "WARNING:tensorflow:From <ipython-input-28-22c9485c402a>:3: Model.fit_generator (from tensorflow.python.keras.engine.training) is deprecated and will be removed in a future version.\n",
            "Instructions for updating:\n",
            "Please use Model.fit, which supports generators.\n",
            "Source path =  datasets/Project_data/train ; batch size = 64\n",
            "Epoch 1/20\n",
            "11/11 [==============================] - ETA: 0s - loss: 1.5241 - categorical_accuracy: 0.4858Source path =  datasets/Project_data/val ; batch size = 64\n",
            "\n",
            "Epoch 00001: saving model to model_init_2021-06-0704_08_41.722991/model-00001-1.52405-0.48580-2.51535-0.25000.h5\n",
            "11/11 [==============================] - 70s 6s/step - loss: 1.5241 - categorical_accuracy: 0.4858 - val_loss: 2.5154 - val_categorical_accuracy: 0.2500\n",
            "Epoch 2/20\n",
            "11/11 [==============================] - ETA: 0s - loss: 0.8718 - categorical_accuracy: 0.6759\n",
            "Epoch 00002: saving model to model_init_2021-06-0704_08_41.722991/model-00002-0.87182-0.67589-3.47901-0.12500.h5\n",
            "11/11 [==============================] - 32s 3s/step - loss: 0.8718 - categorical_accuracy: 0.6759 - val_loss: 3.4790 - val_categorical_accuracy: 0.1250\n",
            "Epoch 3/20\n",
            "11/11 [==============================] - ETA: 0s - loss: 0.9337 - categorical_accuracy: 0.6680\n",
            "Epoch 00003: saving model to model_init_2021-06-0704_08_41.722991/model-00003-0.93369-0.66798-2.11720-0.28571.h5\n",
            "11/11 [==============================] - 30s 3s/step - loss: 0.9337 - categorical_accuracy: 0.6680 - val_loss: 2.1172 - val_categorical_accuracy: 0.2857\n",
            "Epoch 4/20\n",
            "11/11 [==============================] - ETA: 0s - loss: 0.9524 - categorical_accuracy: 0.7511\n",
            "Epoch 00004: saving model to model_init_2021-06-0704_08_41.722991/model-00004-0.95237-0.75105-2.85634-0.15625.h5\n",
            "11/11 [==============================] - 26s 2s/step - loss: 0.9524 - categorical_accuracy: 0.7511 - val_loss: 2.8563 - val_categorical_accuracy: 0.1562\n",
            "Epoch 5/20\n",
            "11/11 [==============================] - ETA: 0s - loss: 0.5582 - categorical_accuracy: 0.8134\n",
            "Epoch 00005: saving model to model_init_2021-06-0704_08_41.722991/model-00005-0.55823-0.81340-2.50345-0.25000.h5\n",
            "11/11 [==============================] - 23s 2s/step - loss: 0.5582 - categorical_accuracy: 0.8134 - val_loss: 2.5035 - val_categorical_accuracy: 0.2500\n",
            "Epoch 6/20\n",
            "11/11 [==============================] - ETA: 0s - loss: 0.4456 - categorical_accuracy: 0.8038\n",
            "Epoch 00006: saving model to model_init_2021-06-0704_08_41.722991/model-00006-0.44558-0.80383-2.10664-0.20000.h5\n",
            "11/11 [==============================] - 20s 2s/step - loss: 0.4456 - categorical_accuracy: 0.8038 - val_loss: 2.1066 - val_categorical_accuracy: 0.2000\n",
            "Epoch 7/20\n",
            "11/11 [==============================] - ETA: 0s - loss: 0.9590 - categorical_accuracy: 0.7317\n",
            "Epoch 00007: saving model to model_init_2021-06-0704_08_41.722991/model-00007-0.95902-0.73171-2.70214-0.12500.h5\n",
            "11/11 [==============================] - 18s 2s/step - loss: 0.9590 - categorical_accuracy: 0.7317 - val_loss: 2.7021 - val_categorical_accuracy: 0.1250\n",
            "Epoch 8/20\n",
            "11/11 [==============================] - ETA: 0s - loss: 0.4687 - categorical_accuracy: 0.8449\n",
            "Epoch 00008: saving model to model_init_2021-06-0704_08_41.722991/model-00008-0.46875-0.84492-2.03986-0.12500.h5\n",
            "11/11 [==============================] - 19s 2s/step - loss: 0.4687 - categorical_accuracy: 0.8449 - val_loss: 2.0399 - val_categorical_accuracy: 0.1250\n",
            "Epoch 9/20\n",
            "11/11 [==============================] - ETA: 0s - loss: 0.6162 - categorical_accuracy: 0.7807\n",
            "Epoch 00009: saving model to model_init_2021-06-0704_08_41.722991/model-00009-0.61622-0.78075-2.16526-0.25000.h5\n",
            "11/11 [==============================] - 17s 2s/step - loss: 0.6162 - categorical_accuracy: 0.7807 - val_loss: 2.1653 - val_categorical_accuracy: 0.2500\n",
            "Epoch 10/20\n",
            "11/11 [==============================] - ETA: 0s - loss: 0.6026 - categorical_accuracy: 0.8075\n",
            "Epoch 00010: saving model to model_init_2021-06-0704_08_41.722991/model-00010-0.60260-0.80749-1.96663-0.25000.h5\n",
            "11/11 [==============================] - 16s 1s/step - loss: 0.6026 - categorical_accuracy: 0.8075 - val_loss: 1.9666 - val_categorical_accuracy: 0.2500\n",
            "Epoch 11/20\n",
            "11/11 [==============================] - ETA: 0s - loss: 0.4450 - categorical_accuracy: 0.8449\n",
            "Epoch 00011: saving model to model_init_2021-06-0704_08_41.722991/model-00011-0.44504-0.84492-1.87267-0.25000.h5\n",
            "11/11 [==============================] - 19s 2s/step - loss: 0.4450 - categorical_accuracy: 0.8449 - val_loss: 1.8727 - val_categorical_accuracy: 0.2500\n",
            "Epoch 12/20\n",
            "11/11 [==============================] - ETA: 0s - loss: 0.4056 - categorical_accuracy: 0.8396\n",
            "Epoch 00012: saving model to model_init_2021-06-0704_08_41.722991/model-00012-0.40559-0.83957-0.92273-0.62500.h5\n",
            "11/11 [==============================] - 17s 2s/step - loss: 0.4056 - categorical_accuracy: 0.8396 - val_loss: 0.9227 - val_categorical_accuracy: 0.6250\n",
            "Epoch 13/20\n",
            "11/11 [==============================] - ETA: 0s - loss: 0.3795 - categorical_accuracy: 0.8663\n",
            "Epoch 00013: saving model to model_init_2021-06-0704_08_41.722991/model-00013-0.37951-0.86631-0.88103-0.62500.h5\n",
            "11/11 [==============================] - 17s 2s/step - loss: 0.3795 - categorical_accuracy: 0.8663 - val_loss: 0.8810 - val_categorical_accuracy: 0.6250\n",
            "Epoch 14/20\n",
            "11/11 [==============================] - ETA: 0s - loss: 0.3925 - categorical_accuracy: 0.8556\n",
            "Epoch 00014: saving model to model_init_2021-06-0704_08_41.722991/model-00014-0.39255-0.85561-1.14510-0.50000.h5\n",
            "11/11 [==============================] - 18s 2s/step - loss: 0.3925 - categorical_accuracy: 0.8556 - val_loss: 1.1451 - val_categorical_accuracy: 0.5000\n",
            "Epoch 15/20\n",
            "11/11 [==============================] - ETA: 0s - loss: 0.3580 - categorical_accuracy: 0.8824\n",
            "Epoch 00015: saving model to model_init_2021-06-0704_08_41.722991/model-00015-0.35802-0.88235-0.92587-0.75000.h5\n",
            "11/11 [==============================] - 17s 2s/step - loss: 0.3580 - categorical_accuracy: 0.8824 - val_loss: 0.9259 - val_categorical_accuracy: 0.7500\n",
            "Epoch 16/20\n",
            "11/11 [==============================] - ETA: 0s - loss: 0.2774 - categorical_accuracy: 0.9198\n",
            "Epoch 00016: saving model to model_init_2021-06-0704_08_41.722991/model-00016-0.27739-0.91979-0.97536-0.62500.h5\n",
            "11/11 [==============================] - 18s 2s/step - loss: 0.2774 - categorical_accuracy: 0.9198 - val_loss: 0.9754 - val_categorical_accuracy: 0.6250\n",
            "Epoch 17/20\n",
            "11/11 [==============================] - ETA: 0s - loss: 0.3960 - categorical_accuracy: 0.8824\n",
            "Epoch 00017: saving model to model_init_2021-06-0704_08_41.722991/model-00017-0.39596-0.88235-0.52973-1.00000.h5\n",
            "11/11 [==============================] - 17s 2s/step - loss: 0.3960 - categorical_accuracy: 0.8824 - val_loss: 0.5297 - val_categorical_accuracy: 1.0000\n",
            "Epoch 18/20\n",
            "11/11 [==============================] - ETA: 0s - loss: 0.2428 - categorical_accuracy: 0.9251\n",
            "Epoch 00018: saving model to model_init_2021-06-0704_08_41.722991/model-00018-0.24279-0.92513-0.47673-0.75000.h5\n",
            "11/11 [==============================] - 17s 2s/step - loss: 0.2428 - categorical_accuracy: 0.9251 - val_loss: 0.4767 - val_categorical_accuracy: 0.7500\n",
            "Epoch 19/20\n",
            "11/11 [==============================] - ETA: 0s - loss: 0.2773 - categorical_accuracy: 0.9091\n",
            "Epoch 00019: saving model to model_init_2021-06-0704_08_41.722991/model-00019-0.27732-0.90909-0.58544-0.87500.h5\n",
            "11/11 [==============================] - 18s 2s/step - loss: 0.2773 - categorical_accuracy: 0.9091 - val_loss: 0.5854 - val_categorical_accuracy: 0.8750\n",
            "Epoch 20/20\n",
            "11/11 [==============================] - ETA: 0s - loss: 0.2870 - categorical_accuracy: 0.8717\n",
            "Epoch 00020: saving model to model_init_2021-06-0704_08_41.722991/model-00020-0.28702-0.87166-1.55828-0.37500.h5\n",
            "11/11 [==============================] - 19s 2s/step - loss: 0.2870 - categorical_accuracy: 0.8717 - val_loss: 1.5583 - val_categorical_accuracy: 0.3750\n"
          ],
          "name": "stdout"
        }
      ]
    },
    {
      "cell_type": "code",
      "metadata": {
        "colab": {
          "base_uri": "https://localhost:8080/",
          "height": 314
        },
        "id": "C7dia5Pm8IuJ",
        "outputId": "825db4a8-21e5-445a-cbd6-cb482080455c"
      },
      "source": [
        "plottingModelHistory(model_2_history)"
      ],
      "execution_count": null,
      "outputs": [
        {
          "output_type": "display_data",
          "data": {
            "image/png": "[encoded data removed]",
            "text/plain": [
              "<Figure size 1080x288 with 2 Axes>"
            ]
          },
          "metadata": {
            "tags": [],
            "needs_background": "light"
          }
        },
        {
          "output_type": "stream",
          "text": [
            "\u001b[1m Maximum Training Accuracy 92.51 %\n",
            "\u001b[1m Maximum Validaiton Accuracy 100.0 %\n"
          ],
          "name": "stdout"
        }
      ]
    },
    {
      "cell_type": "code",
      "metadata": {
        "colab": {
          "base_uri": "https://localhost:8080/"
        },
        "id": "8gzNLxBfDCb0",
        "outputId": "f3fbe015-696a-4d5f-b4da-4965e5f72ff8"
      },
      "source": [
        "#Model 3: Reducing Parameters, with Num of Frames-20,Batch Size 50   \n",
        "n_frames = 20\n",
        "num_epochs = 30\n",
        "batch_size = 50\n",
        "\n",
        "img_tensor = getImgTensor(n_frames)\n",
        "train_generator = generator(train_path, train_doc, batch_size,img_tensor)\n",
        "val_generator = generator(val_path, val_doc, batch_size,img_tensor)\n",
        "\n",
        "if (num_train_sequences%batch_size) == 0:\n",
        "    steps_per_epoch = int(num_train_sequences/batch_size)\n",
        "else:\n",
        "    steps_per_epoch = (num_train_sequences//batch_size) + 1\n",
        "\n",
        "if (num_val_sequences%batch_size) == 0:\n",
        "    validation_steps = int(num_val_sequences/batch_size)\n",
        "else:\n",
        "    validation_steps = (num_val_sequences//batch_size) + 1\n",
        "    \n",
        "inputShape = (len(img_tensor[0]), img_tensor[1], img_tensor[2], img_tensor[3])\n",
        "\n",
        "model_3 = Sequential([\n",
        "    Conv3D(16, make3dFilter(3), padding='same', activation='relu', input_shape=inputShape),\n",
        "    MaxPooling3D(make3dFilter(2), padding='same'),\n",
        "    BatchNormalization(),\n",
        "\n",
        "    Conv3D(32, make3dFilter(3), padding='same', activation='relu'),\n",
        "    MaxPooling3D(pool_size=(2), padding='same'),\n",
        "    BatchNormalization(),\n",
        "\n",
        "    Conv3D(64, make3dFilter(3), padding='same', activation='relu'),\n",
        "    MaxPooling3D(pool_size=(2), padding='same'),\n",
        "    BatchNormalization(),\n",
        "\n",
        "    Flatten(),\n",
        "    Dense(128, activation='relu'),\n",
        "    BatchNormalization(),\n",
        "    Dropout(0.25),\n",
        "\n",
        "    Dense(64, activation='relu'),\n",
        "    BatchNormalization(),\n",
        "    Dropout(0.25),\n",
        "\n",
        "    Dense(5, activation='softmax')\n",
        "], name=\"conv_3d3\")\n",
        "model_3.compile(optimizer=optimizers.Adam(), loss='categorical_crossentropy', metrics=['categorical_accuracy'])\n",
        "print(model_3.summary())"
      ],
      "execution_count": null,
      "outputs": [
        {
          "output_type": "stream",
          "text": [
            "Model: \"conv_3d3\"\n",
            "_________________________________________________________________\n",
            "Layer (type)                 Output Shape              Param #   \n",
            "=================================================================\n",
            "conv3d_6 (Conv3D)            (None, 20, 100, 100, 16)  1312      \n",
            "_________________________________________________________________\n",
            "max_pooling3d_6 (MaxPooling3 (None, 10, 50, 50, 16)    0         \n",
            "_________________________________________________________________\n",
            "batch_normalization_10 (Batc (None, 10, 50, 50, 16)    64        \n",
            "_________________________________________________________________\n",
            "conv3d_7 (Conv3D)            (None, 10, 50, 50, 32)    13856     \n",
            "_________________________________________________________________\n",
            "max_pooling3d_7 (MaxPooling3 (None, 5, 25, 25, 32)     0         \n",
            "_________________________________________________________________\n",
            "batch_normalization_11 (Batc (None, 5, 25, 25, 32)     128       \n",
            "_________________________________________________________________\n",
            "conv3d_8 (Conv3D)            (None, 5, 25, 25, 64)     55360     \n",
            "_________________________________________________________________\n",
            "max_pooling3d_8 (MaxPooling3 (None, 3, 13, 13, 64)     0         \n",
            "_________________________________________________________________\n",
            "batch_normalization_12 (Batc (None, 3, 13, 13, 64)     256       \n",
            "_________________________________________________________________\n",
            "flatten_2 (Flatten)          (None, 32448)             0         \n",
            "_________________________________________________________________\n",
            "dense_6 (Dense)              (None, 128)               4153472   \n",
            "_________________________________________________________________\n",
            "batch_normalization_13 (Batc (None, 128)               512       \n",
            "_________________________________________________________________\n",
            "dropout_4 (Dropout)          (None, 128)               0         \n",
            "_________________________________________________________________\n",
            "dense_7 (Dense)              (None, 64)                8256      \n",
            "_________________________________________________________________\n",
            "batch_normalization_14 (Batc (None, 64)                256       \n",
            "_________________________________________________________________\n",
            "dropout_5 (Dropout)          (None, 64)                0         \n",
            "_________________________________________________________________\n",
            "dense_8 (Dense)              (None, 5)                 325       \n",
            "=================================================================\n",
            "Total params: 4,233,797\n",
            "Trainable params: 4,233,189\n",
            "Non-trainable params: 608\n",
            "_________________________________________________________________\n",
            "None\n"
          ],
          "name": "stdout"
        }
      ]
    },
    {
      "cell_type": "code",
      "metadata": {
        "colab": {
          "base_uri": "https://localhost:8080/",
          "height": 197
        },
        "id": "U0WZXhwFDXqj",
        "outputId": "79aa1074-4696-473c-a3d1-f9f6be13d4a7"
      },
      "source": [
        "model_3_history = model_3.fit_generator(train_generator, steps_per_epoch=steps_per_epoch, epochs=num_epochs, verbose=1, \n",
        "            callbacks=callbacks_list, validation_data=val_generator, \n",
        "            validation_steps=validation_steps, class_weight=None, workers=1, initial_epoch=0)"
      ],
      "execution_count": null,
      "outputs": [
        {
          "output_type": "stream",
          "text": [
            "Source path =  datasets/Project_data/train ; batch size = 50\n",
            "Epoch 1/30\n",
            "14/14 [==============================] - ETA: 0s - loss: 1.3529 - categorical_accuracy: 0.5386Source path =  datasets/Project_data/val ; batch size = 50\n",
            "\n",
            "Epoch 00001: saving model to model_init_2021-06-0704_08_41.722991/model-00001-1.35294-0.53857-3.72685-0.24000.h5\n",
            "14/14 [==============================] - 92s 7s/step - loss: 1.3529 - categorical_accuracy: 0.5386 - val_loss: 3.7269 - val_categorical_accuracy: 0.2400\n",
            "Epoch 2/30\n",
            "14/14 [==============================] - ETA: 0s - loss: 0.8471 - categorical_accuracy: 0.6703\n",
            "Epoch 00002: saving model to model_init_2021-06-0704_08_41.722991/model-00002-0.84707-0.67033-1.94622-0.30000.h5\n",
            "14/14 [==============================] - 39s 3s/step - loss: 0.8471 - categorical_accuracy: 0.6703 - val_loss: 1.9462 - val_categorical_accuracy: 0.3000\n",
            "Epoch 3/30\n",
            "14/14 [==============================] - ETA: 0s - loss: 0.8471 - categorical_accuracy: 0.6429\n",
            "Epoch 00003: saving model to model_init_2021-06-0704_08_41.722991/model-00003-0.84706-0.64286-1.68730-0.33000.h5\n",
            "14/14 [==============================] - 40s 3s/step - loss: 0.8471 - categorical_accuracy: 0.6429 - val_loss: 1.6873 - val_categorical_accuracy: 0.3300\n",
            "Epoch 4/30\n",
            "14/14 [==============================] - ETA: 0s - loss: 0.8073 - categorical_accuracy: 0.6813\n",
            "Epoch 00004: saving model to model_init_2021-06-0704_08_41.722991/model-00004-0.80733-0.68132-1.52154-0.34000.h5\n",
            "14/14 [==============================] - 40s 3s/step - loss: 0.8073 - categorical_accuracy: 0.6813 - val_loss: 1.5215 - val_categorical_accuracy: 0.3400\n",
            "Epoch 5/30\n",
            "14/14 [==============================] - ETA: 0s - loss: 0.8310 - categorical_accuracy: 0.6923\n",
            "Epoch 00005: saving model to model_init_2021-06-0704_08_41.722991/model-00005-0.83103-0.69231-1.49826-0.30000.h5\n",
            "14/14 [==============================] - 41s 3s/step - loss: 0.8310 - categorical_accuracy: 0.6923 - val_loss: 1.4983 - val_categorical_accuracy: 0.3000\n",
            "Epoch 6/30\n",
            "14/14 [==============================] - ETA: 0s - loss: 0.4907 - categorical_accuracy: 0.8077\n",
            "Epoch 00006: saving model to model_init_2021-06-0704_08_41.722991/model-00006-0.49066-0.80769-1.96514-0.26000.h5\n",
            "14/14 [==============================] - 40s 3s/step - loss: 0.4907 - categorical_accuracy: 0.8077 - val_loss: 1.9651 - val_categorical_accuracy: 0.2600\n",
            "Epoch 7/30\n",
            "14/14 [==============================] - ETA: 0s - loss: 0.6129 - categorical_accuracy: 0.7857\n",
            "Epoch 00007: saving model to model_init_2021-06-0704_08_41.722991/model-00007-0.61289-0.78571-1.87643-0.26000.h5\n",
            "14/14 [==============================] - 39s 3s/step - loss: 0.6129 - categorical_accuracy: 0.7857 - val_loss: 1.8764 - val_categorical_accuracy: 0.2600\n",
            "Epoch 8/30\n",
            "14/14 [==============================] - ETA: 0s - loss: 0.6084 - categorical_accuracy: 0.7857\n",
            "Epoch 00008: saving model to model_init_2021-06-0704_08_41.722991/model-00008-0.60838-0.78571-2.09377-0.19000.h5\n",
            "14/14 [==============================] - 40s 3s/step - loss: 0.6084 - categorical_accuracy: 0.7857 - val_loss: 2.0938 - val_categorical_accuracy: 0.1900\n",
            "Epoch 9/30\n",
            "14/14 [==============================] - ETA: 0s - loss: 0.3469 - categorical_accuracy: 0.8846\n",
            "Epoch 00009: saving model to model_init_2021-06-0704_08_41.722991/model-00009-0.34693-0.88462-1.69284-0.24000.h5\n",
            "\n",
            "Epoch 00009: ReduceLROnPlateau reducing learning rate to 0.0005000000237487257.\n",
            "14/14 [==============================] - 41s 3s/step - loss: 0.3469 - categorical_accuracy: 0.8846 - val_loss: 1.6928 - val_categorical_accuracy: 0.2400\n",
            "Epoch 10/30\n",
            "14/14 [==============================] - ETA: 0s - loss: 0.3955 - categorical_accuracy: 0.8462\n",
            "Epoch 00010: saving model to model_init_2021-06-0704_08_41.722991/model-00010-0.39546-0.84615-1.39569-0.38000.h5\n",
            "14/14 [==============================] - 41s 3s/step - loss: 0.3955 - categorical_accuracy: 0.8462 - val_loss: 1.3957 - val_categorical_accuracy: 0.3800\n",
            "Epoch 11/30\n",
            "14/14 [==============================] - ETA: 0s - loss: 0.3294 - categorical_accuracy: 0.9011\n",
            "Epoch 00011: saving model to model_init_2021-06-0704_08_41.722991/model-00011-0.32941-0.90110-1.39710-0.44000.h5\n",
            "14/14 [==============================] - 39s 3s/step - loss: 0.3294 - categorical_accuracy: 0.9011 - val_loss: 1.3971 - val_categorical_accuracy: 0.4400\n",
            "Epoch 12/30\n",
            "14/14 [==============================] - ETA: 0s - loss: 0.4527 - categorical_accuracy: 0.8297\n",
            "Epoch 00012: saving model to model_init_2021-06-0704_08_41.722991/model-00012-0.45267-0.82967-1.66046-0.34000.h5\n",
            "14/14 [==============================] - 39s 3s/step - loss: 0.4527 - categorical_accuracy: 0.8297 - val_loss: 1.6605 - val_categorical_accuracy: 0.3400\n",
            "Epoch 13/30\n",
            "14/14 [==============================] - ETA: 0s - loss: 0.3332 - categorical_accuracy: 0.8791\n",
            "Epoch 00013: saving model to model_init_2021-06-0704_08_41.722991/model-00013-0.33318-0.87912-1.27077-0.53000.h5\n",
            "14/14 [==============================] - 40s 3s/step - loss: 0.3332 - categorical_accuracy: 0.8791 - val_loss: 1.2708 - val_categorical_accuracy: 0.5300\n",
            "Epoch 14/30\n",
            "14/14 [==============================] - ETA: 0s - loss: 0.2849 - categorical_accuracy: 0.9176\n",
            "Epoch 00014: saving model to model_init_2021-06-0704_08_41.722991/model-00014-0.28492-0.91758-1.34199-0.48000.h5\n",
            "14/14 [==============================] - 40s 3s/step - loss: 0.2849 - categorical_accuracy: 0.9176 - val_loss: 1.3420 - val_categorical_accuracy: 0.4800\n",
            "Epoch 15/30\n",
            "14/14 [==============================] - ETA: 0s - loss: 0.2754 - categorical_accuracy: 0.8956\n",
            "Epoch 00015: saving model to model_init_2021-06-0704_08_41.722991/model-00015-0.27536-0.89560-2.08268-0.27000.h5\n",
            "14/14 [==============================] - 41s 3s/step - loss: 0.2754 - categorical_accuracy: 0.8956 - val_loss: 2.0827 - val_categorical_accuracy: 0.2700\n",
            "Epoch 16/30\n",
            "14/14 [==============================] - ETA: 0s - loss: 0.3074 - categorical_accuracy: 0.9066\n",
            "Epoch 00016: saving model to model_init_2021-06-0704_08_41.722991/model-00016-0.30742-0.90659-2.64281-0.22000.h5\n",
            "14/14 [==============================] - 39s 3s/step - loss: 0.3074 - categorical_accuracy: 0.9066 - val_loss: 2.6428 - val_categorical_accuracy: 0.2200\n",
            "Epoch 17/30\n",
            "14/14 [==============================] - ETA: 0s - loss: 0.3524 - categorical_accuracy: 0.8681\n",
            "Epoch 00017: saving model to model_init_2021-06-0704_08_41.722991/model-00017-0.35243-0.86813-2.73840-0.29000.h5\n",
            "\n",
            "Epoch 00017: ReduceLROnPlateau reducing learning rate to 0.0002500000118743628.\n",
            "14/14 [==============================] - 40s 3s/step - loss: 0.3524 - categorical_accuracy: 0.8681 - val_loss: 2.7384 - val_categorical_accuracy: 0.2900\n",
            "Epoch 18/30\n",
            "14/14 [==============================] - ETA: 0s - loss: 0.2176 - categorical_accuracy: 0.9396\n",
            "Epoch 00018: saving model to model_init_2021-06-0704_08_41.722991/model-00018-0.21755-0.93956-1.96370-0.22000.h5\n",
            "14/14 [==============================] - 41s 3s/step - loss: 0.2176 - categorical_accuracy: 0.9396 - val_loss: 1.9637 - val_categorical_accuracy: 0.2200\n",
            "Epoch 19/30\n",
            "14/14 [==============================] - ETA: 0s - loss: 0.2437 - categorical_accuracy: 0.9066\n",
            "Epoch 00019: saving model to model_init_2021-06-0704_08_41.722991/model-00019-0.24372-0.90659-1.38962-0.47000.h5\n",
            "14/14 [==============================] - 39s 3s/step - loss: 0.2437 - categorical_accuracy: 0.9066 - val_loss: 1.3896 - val_categorical_accuracy: 0.4700\n",
            "Epoch 20/30\n",
            "14/14 [==============================] - ETA: 0s - loss: 0.2011 - categorical_accuracy: 0.9451\n",
            "Epoch 00020: saving model to model_init_2021-06-0704_08_41.722991/model-00020-0.20106-0.94505-1.03727-0.66000.h5\n",
            "14/14 [==============================] - 41s 3s/step - loss: 0.2011 - categorical_accuracy: 0.9451 - val_loss: 1.0373 - val_categorical_accuracy: 0.6600\n",
            "Epoch 21/30\n",
            "14/14 [==============================] - ETA: 0s - loss: 0.2345 - categorical_accuracy: 0.9121\n",
            "Epoch 00021: saving model to model_init_2021-06-0704_08_41.722991/model-00021-0.23454-0.91209-1.05047-0.62000.h5\n",
            "14/14 [==============================] - 39s 3s/step - loss: 0.2345 - categorical_accuracy: 0.9121 - val_loss: 1.0505 - val_categorical_accuracy: 0.6200\n",
            "Epoch 22/30\n",
            "14/14 [==============================] - ETA: 0s - loss: 0.1613 - categorical_accuracy: 0.9670\n",
            "Epoch 00022: saving model to model_init_2021-06-0704_08_41.722991/model-00022-0.16130-0.96703-0.96697-0.66000.h5\n",
            "14/14 [==============================] - 40s 3s/step - loss: 0.1613 - categorical_accuracy: 0.9670 - val_loss: 0.9670 - val_categorical_accuracy: 0.6600\n",
            "Epoch 23/30\n",
            "14/14 [==============================] - ETA: 0s - loss: 0.1672 - categorical_accuracy: 0.9505\n",
            "Epoch 00023: saving model to model_init_2021-06-0704_08_41.722991/model-00023-0.16715-0.95055-0.92283-0.63000.h5\n",
            "14/14 [==============================] - 41s 3s/step - loss: 0.1672 - categorical_accuracy: 0.9505 - val_loss: 0.9228 - val_categorical_accuracy: 0.6300\n",
            "Epoch 24/30\n",
            "14/14 [==============================] - ETA: 0s - loss: 0.1939 - categorical_accuracy: 0.9341\n",
            "Epoch 00024: saving model to model_init_2021-06-0704_08_41.722991/model-00024-0.19390-0.93407-0.91794-0.59000.h5\n",
            "14/14 [==============================] - 39s 3s/step - loss: 0.1939 - categorical_accuracy: 0.9341 - val_loss: 0.9179 - val_categorical_accuracy: 0.5900\n",
            "Epoch 25/30\n",
            "14/14 [==============================] - ETA: 0s - loss: 0.1571 - categorical_accuracy: 0.9615\n",
            "Epoch 00025: saving model to model_init_2021-06-0704_08_41.722991/model-00025-0.15710-0.96154-0.89974-0.62000.h5\n",
            "14/14 [==============================] - 41s 3s/step - loss: 0.1571 - categorical_accuracy: 0.9615 - val_loss: 0.8997 - val_categorical_accuracy: 0.6200\n",
            "Epoch 26/30\n",
            "14/14 [==============================] - ETA: 0s - loss: 0.1516 - categorical_accuracy: 0.9670\n",
            "Epoch 00026: saving model to model_init_2021-06-0704_08_41.722991/model-00026-0.15159-0.96703-0.81431-0.65000.h5\n",
            "14/14 [==============================] - 38s 3s/step - loss: 0.1516 - categorical_accuracy: 0.9670 - val_loss: 0.8143 - val_categorical_accuracy: 0.6500\n",
            "Epoch 27/30\n",
            "14/14 [==============================] - ETA: 0s - loss: 0.1458 - categorical_accuracy: 0.9560\n",
            "Epoch 00027: saving model to model_init_2021-06-0704_08_41.722991/model-00027-0.14579-0.95604-0.95706-0.66000.h5\n",
            "14/14 [==============================] - 40s 3s/step - loss: 0.1458 - categorical_accuracy: 0.9560 - val_loss: 0.9571 - val_categorical_accuracy: 0.6600\n",
            "Epoch 28/30\n",
            "14/14 [==============================] - ETA: 0s - loss: 0.1356 - categorical_accuracy: 0.9670\n",
            "Epoch 00028: saving model to model_init_2021-06-0704_08_41.722991/model-00028-0.13555-0.96703-0.96735-0.65000.h5\n",
            "14/14 [==============================] - 41s 3s/step - loss: 0.1356 - categorical_accuracy: 0.9670 - val_loss: 0.9673 - val_categorical_accuracy: 0.6500\n",
            "Epoch 29/30\n",
            "14/14 [==============================] - ETA: 0s - loss: 0.1405 - categorical_accuracy: 0.9670\n",
            "Epoch 00029: saving model to model_init_2021-06-0704_08_41.722991/model-00029-0.14054-0.96703-0.92394-0.69000.h5\n",
            "14/14 [==============================] - 41s 3s/step - loss: 0.1405 - categorical_accuracy: 0.9670 - val_loss: 0.9239 - val_categorical_accuracy: 0.6900\n",
            "Epoch 30/30\n",
            "14/14 [==============================] - ETA: 0s - loss: 0.1333 - categorical_accuracy: 0.9725\n",
            "Epoch 00030: saving model to model_init_2021-06-0704_08_41.722991/model-00030-0.13326-0.97253-0.85389-0.71000.h5\n",
            "\n",
            "Epoch 00030: ReduceLROnPlateau reducing learning rate to 0.0001250000059371814.\n",
            "14/14 [==============================] - 38s 3s/step - loss: 0.1333 - categorical_accuracy: 0.9725 - val_loss: 0.8539 - val_categorical_accuracy: 0.7100\n"
          ],
          "name": "stdout"
        }
      ]
    },
    {
      "cell_type": "code",
      "metadata": {
        "id": "bt5dMop6kV2n",
        "outputId": "a35f63b9-8862-405e-e81a-508bd369f4ab"
      },
      "source": [
        "plottingModelHistory(model_3_history)"
      ],
      "execution_count": null,
      "outputs": [
        {
          "output_type": "display_data",
          "data": {
            "image/png": "[encoded data removed]",
            "text/plain": [
              "<Figure size 1080x288 with 2 Axes>"
            ]
          },
          "metadata": {
            "tags": [],
            "needs_background": "light"
          }
        },
        {
          "output_type": "stream",
          "text": [
            "\u001b[1m Maximum Training Accuracy 97.25 %\n",
            "\u001b[1m Maximum Validaiton Accuracy 71.0 %\n"
          ],
          "name": "stdout"
        }
      ]
    },
    {
      "cell_type": "code",
      "metadata": {
        "id": "V93700MikV2o",
        "outputId": "ecc0781b-a6a3-4a69-ee35-f71f0f529960"
      },
      "source": [
        "#Model 4: Frames-20, Same pooling in Conv3D layer\n",
        "n_frames = 20\n",
        "num_epochs = 20\n",
        "batch_size = 64\n",
        "\n",
        "img_tensor = getImgTensor(n_frames)\n",
        "train_generator = generator(train_path, train_doc, batch_size,img_tensor)\n",
        "val_generator = generator(val_path, val_doc, batch_size,img_tensor)\n",
        "\n",
        "if (num_train_sequences%batch_size) == 0:\n",
        "    steps_per_epoch = int(num_train_sequences/batch_size)\n",
        "else:\n",
        "    steps_per_epoch = (num_train_sequences//batch_size) + 1\n",
        "\n",
        "if (num_val_sequences%batch_size) == 0:\n",
        "    validation_steps = int(num_val_sequences/batch_size)\n",
        "else:\n",
        "    validation_steps = (num_val_sequences//batch_size) + 1\n",
        "    \n",
        "inputShape = (len(img_tensor[0]), img_tensor[1], img_tensor[2], img_tensor[3])\n",
        "\n",
        "model_4 = Sequential([\n",
        "    Conv3D(16, make3dFilter(3), padding='same', activation='relu', input_shape=inputShape),\n",
        "    MaxPooling3D(make3dFilter(2), padding='same'),\n",
        "    BatchNormalization(),\n",
        "\n",
        "    Conv3D(32, make3dFilter(3), padding='same', activation='relu'),\n",
        "    MaxPooling3D(pool_size=(2), padding='same'),\n",
        "    BatchNormalization(),\n",
        "\n",
        "    Conv3D(64, make3dFilter(3), padding='same', activation='relu'),\n",
        "    MaxPooling3D(pool_size=(2), padding='same'),\n",
        "    BatchNormalization(),\n",
        "\n",
        "    Conv3D(128, make3dFilter(3), padding='same', activation='relu'),\n",
        "    MaxPooling3D(pool_size=(2), padding='same'),\n",
        "    BatchNormalization(),\n",
        "\n",
        "    Flatten(),\n",
        "    Dense(128, activation='relu'),\n",
        "    BatchNormalization(),\n",
        "    Dropout(0.50),\n",
        "\n",
        "    Dense(64, activation='relu'),\n",
        "    BatchNormalization(),\n",
        "    Dropout(0.50),\n",
        "\n",
        "    Dense(5, activation='softmax')\n",
        "], name=\"conv_3d4\")\n",
        "model_4.compile(optimizer=optimizers.Adam(), loss='categorical_crossentropy', metrics=['categorical_accuracy'])\n",
        "print(model_4.summary())"
      ],
      "execution_count": null,
      "outputs": [
        {
          "output_type": "stream",
          "text": [
            "Model: \"conv_3d4\"\n",
            "_________________________________________________________________\n",
            "Layer (type)                 Output Shape              Param #   \n",
            "=================================================================\n",
            "conv3d_9 (Conv3D)            (None, 20, 100, 100, 16)  1312      \n",
            "_________________________________________________________________\n",
            "max_pooling3d_9 (MaxPooling3 (None, 10, 50, 50, 16)    0         \n",
            "_________________________________________________________________\n",
            "batch_normalization_15 (Batc (None, 10, 50, 50, 16)    64        \n",
            "_________________________________________________________________\n",
            "conv3d_10 (Conv3D)           (None, 10, 50, 50, 32)    13856     \n",
            "_________________________________________________________________\n",
            "max_pooling3d_10 (MaxPooling (None, 5, 25, 25, 32)     0         \n",
            "_________________________________________________________________\n",
            "batch_normalization_16 (Batc (None, 5, 25, 25, 32)     128       \n",
            "_________________________________________________________________\n",
            "conv3d_11 (Conv3D)           (None, 5, 25, 25, 64)     55360     \n",
            "_________________________________________________________________\n",
            "max_pooling3d_11 (MaxPooling (None, 3, 13, 13, 64)     0         \n",
            "_________________________________________________________________\n",
            "batch_normalization_17 (Batc (None, 3, 13, 13, 64)     256       \n",
            "_________________________________________________________________\n",
            "conv3d_12 (Conv3D)           (None, 3, 13, 13, 128)    221312    \n",
            "_________________________________________________________________\n",
            "max_pooling3d_12 (MaxPooling (None, 2, 7, 7, 128)      0         \n",
            "_________________________________________________________________\n",
            "batch_normalization_18 (Batc (None, 2, 7, 7, 128)      512       \n",
            "_________________________________________________________________\n",
            "flatten_3 (Flatten)          (None, 12544)             0         \n",
            "_________________________________________________________________\n",
            "dense_9 (Dense)              (None, 128)               1605760   \n",
            "_________________________________________________________________\n",
            "batch_normalization_19 (Batc (None, 128)               512       \n",
            "_________________________________________________________________\n",
            "dropout_6 (Dropout)          (None, 128)               0         \n",
            "_________________________________________________________________\n",
            "dense_10 (Dense)             (None, 64)                8256      \n",
            "_________________________________________________________________\n",
            "batch_normalization_20 (Batc (None, 64)                256       \n",
            "_________________________________________________________________\n",
            "dropout_7 (Dropout)          (None, 64)                0         \n",
            "_________________________________________________________________\n",
            "dense_11 (Dense)             (None, 5)                 325       \n",
            "=================================================================\n",
            "Total params: 1,907,909\n",
            "Trainable params: 1,907,045\n",
            "Non-trainable params: 864\n",
            "_________________________________________________________________\n",
            "None\n"
          ],
          "name": "stdout"
        }
      ]
    },
    {
      "cell_type": "code",
      "metadata": {
        "id": "4mXH1e0PkV2o",
        "outputId": "eb8b27c9-c571-4c42-ad50-1d5a8913c289"
      },
      "source": [
        "model_4_history = model_4.fit_generator(train_generator, steps_per_epoch=steps_per_epoch, epochs=num_epochs, verbose=1, \n",
        "            callbacks=callbacks_list, validation_data=val_generator, \n",
        "            validation_steps=validation_steps, class_weight=None, workers=1, initial_epoch=0)"
      ],
      "execution_count": null,
      "outputs": [
        {
          "output_type": "stream",
          "text": [
            "Source path =  datasets/Project_data/train ; batch size = 64\n",
            "Epoch 1/20\n",
            "11/11 [==============================] - ETA: 0s - loss: 2.1655 - categorical_accuracy: 0.3651Source path =  datasets/Project_data/val ; batch size = 64\n",
            "\n",
            "Epoch 00001: saving model to model_init_2021-06-0704_08_41.722991/model-00001-2.16553-0.36506-1.86414-0.21875.h5\n",
            "11/11 [==============================] - 85s 8s/step - loss: 2.1655 - categorical_accuracy: 0.3651 - val_loss: 1.8641 - val_categorical_accuracy: 0.2188\n",
            "Epoch 2/20\n",
            "11/11 [==============================] - ETA: 0s - loss: 1.4489 - categorical_accuracy: 0.4980\n",
            "Epoch 00002: saving model to model_init_2021-06-0704_08_41.722991/model-00002-1.44886-0.49802-2.05844-0.26389.h5\n",
            "11/11 [==============================] - 39s 4s/step - loss: 1.4489 - categorical_accuracy: 0.4980 - val_loss: 2.0584 - val_categorical_accuracy: 0.2639\n",
            "Epoch 3/20\n",
            "11/11 [==============================] - ETA: 0s - loss: 1.5238 - categorical_accuracy: 0.5020\n",
            "Epoch 00003: saving model to model_init_2021-06-0704_08_41.722991/model-00003-1.52383-0.50198-1.45534-0.32143.h5\n",
            "11/11 [==============================] - 37s 3s/step - loss: 1.5238 - categorical_accuracy: 0.5020 - val_loss: 1.4553 - val_categorical_accuracy: 0.3214\n",
            "Epoch 4/20\n",
            "11/11 [==============================] - ETA: 0s - loss: 1.5596 - categorical_accuracy: 0.4979\n",
            "Epoch 00004: saving model to model_init_2021-06-0704_08_41.722991/model-00004-1.55956-0.49789-1.64906-0.28125.h5\n",
            "11/11 [==============================] - 30s 3s/step - loss: 1.5596 - categorical_accuracy: 0.4979 - val_loss: 1.6491 - val_categorical_accuracy: 0.2812\n",
            "Epoch 5/20\n",
            "11/11 [==============================] - ETA: 0s - loss: 1.2159 - categorical_accuracy: 0.5837\n",
            "Epoch 00005: saving model to model_init_2021-06-0704_08_41.722991/model-00005-1.21588-0.58373-2.50808-0.18750.h5\n",
            "11/11 [==============================] - 29s 3s/step - loss: 1.2159 - categorical_accuracy: 0.5837 - val_loss: 2.5081 - val_categorical_accuracy: 0.1875\n",
            "Epoch 6/20\n",
            "11/11 [==============================] - ETA: 0s - loss: 1.0868 - categorical_accuracy: 0.6220\n",
            "Epoch 00006: saving model to model_init_2021-06-0704_08_41.722991/model-00006-1.08683-0.62201-2.16570-0.25000.h5\n",
            "11/11 [==============================] - 25s 2s/step - loss: 1.0868 - categorical_accuracy: 0.6220 - val_loss: 2.1657 - val_categorical_accuracy: 0.2500\n",
            "Epoch 7/20\n",
            "11/11 [==============================] - ETA: 0s - loss: 1.4209 - categorical_accuracy: 0.5854\n",
            "Epoch 00007: saving model to model_init_2021-06-0704_08_41.722991/model-00007-1.42087-0.58537-2.57924-0.00000.h5\n",
            "\n",
            "Epoch 00007: ReduceLROnPlateau reducing learning rate to 0.0005000000237487257.\n",
            "11/11 [==============================] - 21s 2s/step - loss: 1.4209 - categorical_accuracy: 0.5854 - val_loss: 2.5792 - val_categorical_accuracy: 0.0000e+00\n",
            "Epoch 8/20\n",
            "11/11 [==============================] - ETA: 0s - loss: 1.0223 - categorical_accuracy: 0.6684\n",
            "Epoch 00008: saving model to model_init_2021-06-0704_08_41.722991/model-00008-1.02233-0.66845-2.20264-0.50000.h5\n",
            "11/11 [==============================] - 21s 2s/step - loss: 1.0223 - categorical_accuracy: 0.6684 - val_loss: 2.2026 - val_categorical_accuracy: 0.5000\n",
            "Epoch 9/20\n",
            "11/11 [==============================] - ETA: 0s - loss: 0.9189 - categorical_accuracy: 0.6738\n",
            "Epoch 00009: saving model to model_init_2021-06-0704_08_41.722991/model-00009-0.91891-0.67380-1.62003-0.25000.h5\n",
            "11/11 [==============================] - 22s 2s/step - loss: 0.9189 - categorical_accuracy: 0.6738 - val_loss: 1.6200 - val_categorical_accuracy: 0.2500\n",
            "Epoch 10/20\n",
            "11/11 [==============================] - ETA: 0s - loss: 1.0563 - categorical_accuracy: 0.6043\n",
            "Epoch 00010: saving model to model_init_2021-06-0704_08_41.722991/model-00010-1.05627-0.60428-1.94890-0.12500.h5\n",
            "11/11 [==============================] - 23s 2s/step - loss: 1.0563 - categorical_accuracy: 0.6043 - val_loss: 1.9489 - val_categorical_accuracy: 0.1250\n",
            "Epoch 11/20\n",
            "11/11 [==============================] - ETA: 0s - loss: 0.9481 - categorical_accuracy: 0.6471\n",
            "Epoch 00011: saving model to model_init_2021-06-0704_08_41.722991/model-00011-0.94813-0.64706-2.20853-0.12500.h5\n",
            "\n",
            "Epoch 00011: ReduceLROnPlateau reducing learning rate to 0.0002500000118743628.\n",
            "11/11 [==============================] - 23s 2s/step - loss: 0.9481 - categorical_accuracy: 0.6471 - val_loss: 2.2085 - val_categorical_accuracy: 0.1250\n",
            "Epoch 12/20\n",
            "11/11 [==============================] - ETA: 0s - loss: 0.7552 - categorical_accuracy: 0.7166\n",
            "Epoch 00012: saving model to model_init_2021-06-0704_08_41.722991/model-00012-0.75524-0.71658-1.68312-0.25000.h5\n",
            "11/11 [==============================] - 21s 2s/step - loss: 0.7552 - categorical_accuracy: 0.7166 - val_loss: 1.6831 - val_categorical_accuracy: 0.2500\n",
            "Epoch 13/20\n",
            "11/11 [==============================] - ETA: 0s - loss: 0.9251 - categorical_accuracy: 0.7005\n",
            "Epoch 00013: saving model to model_init_2021-06-0704_08_41.722991/model-00013-0.92505-0.70053-1.56713-0.37500.h5\n",
            "11/11 [==============================] - 20s 2s/step - loss: 0.9251 - categorical_accuracy: 0.7005 - val_loss: 1.5671 - val_categorical_accuracy: 0.3750\n",
            "Epoch 14/20\n",
            "11/11 [==============================] - ETA: 0s - loss: 0.7725 - categorical_accuracy: 0.7273\n",
            "Epoch 00014: saving model to model_init_2021-06-0704_08_41.722991/model-00014-0.77254-0.72727-2.11458-0.00000.h5\n",
            "11/11 [==============================] - 22s 2s/step - loss: 0.7725 - categorical_accuracy: 0.7273 - val_loss: 2.1146 - val_categorical_accuracy: 0.0000e+00\n",
            "Epoch 15/20\n",
            "11/11 [==============================] - ETA: 0s - loss: 0.5545 - categorical_accuracy: 0.7594\n",
            "Epoch 00015: saving model to model_init_2021-06-0704_08_41.722991/model-00015-0.55446-0.75936-1.48034-0.62500.h5\n",
            "\n",
            "Epoch 00015: ReduceLROnPlateau reducing learning rate to 0.0001250000059371814.\n",
            "11/11 [==============================] - 23s 2s/step - loss: 0.5545 - categorical_accuracy: 0.7594 - val_loss: 1.4803 - val_categorical_accuracy: 0.6250\n",
            "Epoch 16/20\n",
            "11/11 [==============================] - ETA: 0s - loss: 0.7353 - categorical_accuracy: 0.7487\n",
            "Epoch 00016: saving model to model_init_2021-06-0704_08_41.722991/model-00016-0.73525-0.74866-1.89707-0.12500.h5\n",
            "11/11 [==============================] - 20s 2s/step - loss: 0.7353 - categorical_accuracy: 0.7487 - val_loss: 1.8971 - val_categorical_accuracy: 0.1250\n",
            "Epoch 17/20\n",
            "11/11 [==============================] - ETA: 0s - loss: 0.7678 - categorical_accuracy: 0.7433\n",
            "Epoch 00017: saving model to model_init_2021-06-0704_08_41.722991/model-00017-0.76777-0.74332-1.80547-0.00000.h5\n",
            "11/11 [==============================] - 21s 2s/step - loss: 0.7678 - categorical_accuracy: 0.7433 - val_loss: 1.8055 - val_categorical_accuracy: 0.0000e+00\n",
            "Epoch 18/20\n",
            "11/11 [==============================] - ETA: 0s - loss: 0.6657 - categorical_accuracy: 0.7487\n",
            "Epoch 00018: saving model to model_init_2021-06-0704_08_41.722991/model-00018-0.66565-0.74866-2.36854-0.37500.h5\n",
            "11/11 [==============================] - 22s 2s/step - loss: 0.6657 - categorical_accuracy: 0.7487 - val_loss: 2.3685 - val_categorical_accuracy: 0.3750\n",
            "Epoch 19/20\n",
            "11/11 [==============================] - ETA: 0s - loss: 0.5468 - categorical_accuracy: 0.7861\n",
            "Epoch 00019: saving model to model_init_2021-06-0704_08_41.722991/model-00019-0.54682-0.78610-1.39497-0.37500.h5\n",
            "11/11 [==============================] - 23s 2s/step - loss: 0.5468 - categorical_accuracy: 0.7861 - val_loss: 1.3950 - val_categorical_accuracy: 0.3750\n",
            "Epoch 20/20\n",
            "11/11 [==============================] - ETA: 0s - loss: 0.5245 - categorical_accuracy: 0.8075\n",
            "Epoch 00020: saving model to model_init_2021-06-0704_08_41.722991/model-00020-0.52451-0.80749-2.41858-0.12500.h5\n",
            "11/11 [==============================] - 21s 2s/step - loss: 0.5245 - categorical_accuracy: 0.8075 - val_loss: 2.4186 - val_categorical_accuracy: 0.1250\n"
          ],
          "name": "stdout"
        }
      ]
    },
    {
      "cell_type": "code",
      "metadata": {
        "id": "flZZck3pkV2o",
        "outputId": "bc0e3c04-cd71-4b1c-a88b-a84a9588a939"
      },
      "source": [
        "plottingModelHistory(model_4_history)"
      ],
      "execution_count": null,
      "outputs": [
        {
          "output_type": "display_data",
          "data": {
            "image/png": "[encoded data removed]",
            "text/plain": [
              "<Figure size 1080x288 with 2 Axes>"
            ]
          },
          "metadata": {
            "tags": [],
            "needs_background": "light"
          }
        },
        {
          "output_type": "stream",
          "text": [
            "\u001b[1m Maximum Training Accuracy 80.75 %\n",
            "\u001b[1m Maximum Validaiton Accuracy 62.5 %\n"
          ],
          "name": "stdout"
        }
      ]
    },
    {
      "cell_type": "code",
      "metadata": {
        "id": "cw8ss5PWkV2o",
        "outputId": "10e65955-8765-43f7-f997-8c11a69d552a"
      },
      "source": [
        "#Model 5: Frames-20, Same pooling in Conv3D layer\n",
        "n_frames = 20\n",
        "num_epochs = 40\n",
        "batch_size = 50\n",
        "\n",
        "img_tensor = getImgTensor(n_frames)\n",
        "train_generator = generator(train_path, train_doc, batch_size,img_tensor)\n",
        "val_generator = generator(val_path, val_doc, batch_size,img_tensor)\n",
        "\n",
        "if (num_train_sequences%batch_size) == 0:\n",
        "    steps_per_epoch = int(num_train_sequences/batch_size)\n",
        "else:\n",
        "    steps_per_epoch = (num_train_sequences//batch_size) + 1\n",
        "\n",
        "if (num_val_sequences%batch_size) == 0:\n",
        "    validation_steps = int(num_val_sequences/batch_size)\n",
        "else:\n",
        "    validation_steps = (num_val_sequences//batch_size) + 1\n",
        "    \n",
        "inputShape = (len(img_tensor[0]), img_tensor[1], img_tensor[2], img_tensor[3])\n",
        "\n",
        "model_5 = Sequential([\n",
        "    Conv3D(16, make3dFilter(3), padding='same', activation='relu', input_shape=inputShape),\n",
        "    MaxPooling3D(make3dFilter(2), padding='same'),\n",
        "    BatchNormalization(),\n",
        "\n",
        "    Conv3D(32, make3dFilter(3), padding='same', activation='relu'),\n",
        "    MaxPooling3D(pool_size=(2), padding='same'),\n",
        "    BatchNormalization(),\n",
        "\n",
        "    Conv3D(64, make3dFilter(3), padding='same', activation='relu'),\n",
        "    MaxPooling3D(pool_size=(2), padding='same'),\n",
        "    BatchNormalization(),\n",
        "\n",
        "    Conv3D(128, make3dFilter(3), padding='same', activation='relu'),\n",
        "    MaxPooling3D(pool_size=(2), padding='same'),\n",
        "    BatchNormalization(),\n",
        "\n",
        "    Flatten(),\n",
        "    Dense(128, activation='relu'),\n",
        "    BatchNormalization(),\n",
        "    Dropout(0.25),\n",
        "\n",
        "    Dense(64, activation='relu'),\n",
        "    BatchNormalization(),\n",
        "    Dropout(0.25),\n",
        "\n",
        "    Dense(5, activation='softmax')\n",
        "], name=\"conv_3d5\")\n",
        "model_5.compile(optimizer=optimizers.Adam(), loss='categorical_crossentropy', metrics=['categorical_accuracy'])\n",
        "print(model_5.summary())"
      ],
      "execution_count": null,
      "outputs": [
        {
          "output_type": "stream",
          "text": [
            "Model: \"conv_3d5\"\n",
            "_________________________________________________________________\n",
            "Layer (type)                 Output Shape              Param #   \n",
            "=================================================================\n",
            "conv3d_13 (Conv3D)           (None, 20, 100, 100, 16)  1312      \n",
            "_________________________________________________________________\n",
            "max_pooling3d_13 (MaxPooling (None, 10, 50, 50, 16)    0         \n",
            "_________________________________________________________________\n",
            "batch_normalization_21 (Batc (None, 10, 50, 50, 16)    64        \n",
            "_________________________________________________________________\n",
            "conv3d_14 (Conv3D)           (None, 10, 50, 50, 32)    13856     \n",
            "_________________________________________________________________\n",
            "max_pooling3d_14 (MaxPooling (None, 5, 25, 25, 32)     0         \n",
            "_________________________________________________________________\n",
            "batch_normalization_22 (Batc (None, 5, 25, 25, 32)     128       \n",
            "_________________________________________________________________\n",
            "conv3d_15 (Conv3D)           (None, 5, 25, 25, 64)     55360     \n",
            "_________________________________________________________________\n",
            "max_pooling3d_15 (MaxPooling (None, 3, 13, 13, 64)     0         \n",
            "_________________________________________________________________\n",
            "batch_normalization_23 (Batc (None, 3, 13, 13, 64)     256       \n",
            "_________________________________________________________________\n",
            "conv3d_16 (Conv3D)           (None, 3, 13, 13, 128)    221312    \n",
            "_________________________________________________________________\n",
            "max_pooling3d_16 (MaxPooling (None, 2, 7, 7, 128)      0         \n",
            "_________________________________________________________________\n",
            "batch_normalization_24 (Batc (None, 2, 7, 7, 128)      512       \n",
            "_________________________________________________________________\n",
            "flatten_4 (Flatten)          (None, 12544)             0         \n",
            "_________________________________________________________________\n",
            "dense_12 (Dense)             (None, 128)               1605760   \n",
            "_________________________________________________________________\n",
            "batch_normalization_25 (Batc (None, 128)               512       \n",
            "_________________________________________________________________\n",
            "dropout_8 (Dropout)          (None, 128)               0         \n",
            "_________________________________________________________________\n",
            "dense_13 (Dense)             (None, 64)                8256      \n",
            "_________________________________________________________________\n",
            "batch_normalization_26 (Batc (None, 64)                256       \n",
            "_________________________________________________________________\n",
            "dropout_9 (Dropout)          (None, 64)                0         \n",
            "_________________________________________________________________\n",
            "dense_14 (Dense)             (None, 5)                 325       \n",
            "=================================================================\n",
            "Total params: 1,907,909\n",
            "Trainable params: 1,907,045\n",
            "Non-trainable params: 864\n",
            "_________________________________________________________________\n",
            "None\n"
          ],
          "name": "stdout"
        }
      ]
    },
    {
      "cell_type": "code",
      "metadata": {
        "id": "iFTPO0QGkV2p",
        "outputId": "0d9f13af-3e51-4391-fb65-f87182919264"
      },
      "source": [
        "model_5_history = model_5.fit_generator(train_generator, steps_per_epoch=steps_per_epoch, epochs=num_epochs, verbose=1, \n",
        "            callbacks=callbacks_list, validation_data=val_generator, \n",
        "            validation_steps=validation_steps, class_weight=None, workers=1, initial_epoch=0)"
      ],
      "execution_count": null,
      "outputs": [
        {
          "output_type": "stream",
          "text": [
            "Source path =  datasets/Project_data/train ; batch size = 50\n",
            "Epoch 1/40\n",
            "14/14 [==============================] - ETA: 0s - loss: 1.5723 - categorical_accuracy: 0.4471Source path =  datasets/Project_data/val ; batch size = 50\n",
            "\n",
            "Epoch 00001: saving model to model_init_2021-06-0704_08_41.722991/model-00001-1.57228-0.44714-1.50144-0.28000.h5\n",
            "14/14 [==============================] - 92s 7s/step - loss: 1.5723 - categorical_accuracy: 0.4471 - val_loss: 1.5014 - val_categorical_accuracy: 0.2800\n",
            "Epoch 2/40\n",
            "14/14 [==============================] - ETA: 0s - loss: 1.3414 - categorical_accuracy: 0.5604\n",
            "Epoch 00002: saving model to model_init_2021-06-0704_08_41.722991/model-00002-1.34144-0.56044-1.58253-0.37000.h5\n",
            "14/14 [==============================] - 39s 3s/step - loss: 1.3414 - categorical_accuracy: 0.5604 - val_loss: 1.5825 - val_categorical_accuracy: 0.3700\n",
            "Epoch 3/40\n",
            "14/14 [==============================] - ETA: 0s - loss: 1.0038 - categorical_accuracy: 0.6209\n",
            "Epoch 00003: saving model to model_init_2021-06-0704_08_41.722991/model-00003-1.00378-0.62088-1.82626-0.18000.h5\n",
            "14/14 [==============================] - 39s 3s/step - loss: 1.0038 - categorical_accuracy: 0.6209 - val_loss: 1.8263 - val_categorical_accuracy: 0.1800\n",
            "Epoch 4/40\n",
            "14/14 [==============================] - ETA: 0s - loss: 0.9915 - categorical_accuracy: 0.6319\n",
            "Epoch 00004: saving model to model_init_2021-06-0704_08_41.722991/model-00004-0.99149-0.63187-2.41452-0.21000.h5\n",
            "14/14 [==============================] - 41s 3s/step - loss: 0.9915 - categorical_accuracy: 0.6319 - val_loss: 2.4145 - val_categorical_accuracy: 0.2100\n",
            "Epoch 5/40\n",
            "14/14 [==============================] - ETA: 0s - loss: 0.7199 - categorical_accuracy: 0.7143\n",
            "Epoch 00005: saving model to model_init_2021-06-0704_08_41.722991/model-00005-0.71987-0.71429-1.82487-0.21000.h5\n",
            "\n",
            "Epoch 00005: ReduceLROnPlateau reducing learning rate to 0.0005000000237487257.\n",
            "14/14 [==============================] - 39s 3s/step - loss: 0.7199 - categorical_accuracy: 0.7143 - val_loss: 1.8249 - val_categorical_accuracy: 0.2100\n",
            "Epoch 6/40\n",
            "14/14 [==============================] - ETA: 0s - loss: 0.6185 - categorical_accuracy: 0.7802\n",
            "Epoch 00006: saving model to model_init_2021-06-0704_08_41.722991/model-00006-0.61850-0.78022-2.44166-0.23000.h5\n",
            "14/14 [==============================] - 39s 3s/step - loss: 0.6185 - categorical_accuracy: 0.7802 - val_loss: 2.4417 - val_categorical_accuracy: 0.2300\n",
            "Epoch 7/40\n",
            "14/14 [==============================] - ETA: 0s - loss: 0.8805 - categorical_accuracy: 0.7143\n",
            "Epoch 00007: saving model to model_init_2021-06-0704_08_41.722991/model-00007-0.88052-0.71429-2.47954-0.14000.h5\n",
            "14/14 [==============================] - 39s 3s/step - loss: 0.8805 - categorical_accuracy: 0.7143 - val_loss: 2.4795 - val_categorical_accuracy: 0.1400\n",
            "Epoch 8/40\n",
            "14/14 [==============================] - ETA: 0s - loss: 0.7199 - categorical_accuracy: 0.7088\n",
            "Epoch 00008: saving model to model_init_2021-06-0704_08_41.722991/model-00008-0.71991-0.70879-2.22729-0.19000.h5\n",
            "14/14 [==============================] - 42s 3s/step - loss: 0.7199 - categorical_accuracy: 0.7088 - val_loss: 2.2273 - val_categorical_accuracy: 0.1900\n",
            "Epoch 9/40\n",
            "14/14 [==============================] - ETA: 0s - loss: 0.5323 - categorical_accuracy: 0.8187\n",
            "Epoch 00009: saving model to model_init_2021-06-0704_08_41.722991/model-00009-0.53234-0.81868-2.79462-0.23000.h5\n",
            "\n",
            "Epoch 00009: ReduceLROnPlateau reducing learning rate to 0.0002500000118743628.\n",
            "14/14 [==============================] - 40s 3s/step - loss: 0.5323 - categorical_accuracy: 0.8187 - val_loss: 2.7946 - val_categorical_accuracy: 0.2300\n",
            "Epoch 10/40\n",
            "14/14 [==============================] - ETA: 0s - loss: 0.4660 - categorical_accuracy: 0.8297\n",
            "Epoch 00010: saving model to model_init_2021-06-0704_08_41.722991/model-00010-0.46598-0.82967-2.76716-0.23000.h5\n",
            "14/14 [==============================] - 40s 3s/step - loss: 0.4660 - categorical_accuracy: 0.8297 - val_loss: 2.7672 - val_categorical_accuracy: 0.2300\n",
            "Epoch 11/40\n",
            "14/14 [==============================] - ETA: 0s - loss: 0.4460 - categorical_accuracy: 0.8297\n",
            "Epoch 00011: saving model to model_init_2021-06-0704_08_41.722991/model-00011-0.44597-0.82967-3.42306-0.21000.h5\n",
            "14/14 [==============================] - 38s 3s/step - loss: 0.4460 - categorical_accuracy: 0.8297 - val_loss: 3.4231 - val_categorical_accuracy: 0.2100\n",
            "Epoch 12/40\n",
            "14/14 [==============================] - ETA: 0s - loss: 0.4612 - categorical_accuracy: 0.8407\n",
            "Epoch 00012: saving model to model_init_2021-06-0704_08_41.722991/model-00012-0.46120-0.84066-2.78013-0.17000.h5\n",
            "14/14 [==============================] - 42s 3s/step - loss: 0.4612 - categorical_accuracy: 0.8407 - val_loss: 2.7801 - val_categorical_accuracy: 0.1700\n",
            "Epoch 13/40\n",
            "14/14 [==============================] - ETA: 0s - loss: 0.3640 - categorical_accuracy: 0.8901\n",
            "Epoch 00013: saving model to model_init_2021-06-0704_08_41.722991/model-00013-0.36399-0.89011-2.07581-0.21000.h5\n",
            "\n",
            "Epoch 00013: ReduceLROnPlateau reducing learning rate to 0.0001250000059371814.\n",
            "14/14 [==============================] - 40s 3s/step - loss: 0.3640 - categorical_accuracy: 0.8901 - val_loss: 2.0758 - val_categorical_accuracy: 0.2100\n",
            "Epoch 14/40\n",
            "14/14 [==============================] - ETA: 0s - loss: 0.4496 - categorical_accuracy: 0.8407\n",
            "Epoch 00014: saving model to model_init_2021-06-0704_08_41.722991/model-00014-0.44960-0.84066-1.89739-0.28000.h5\n",
            "14/14 [==============================] - 40s 3s/step - loss: 0.4496 - categorical_accuracy: 0.8407 - val_loss: 1.8974 - val_categorical_accuracy: 0.2800\n",
            "Epoch 15/40\n",
            "14/14 [==============================] - ETA: 0s - loss: 0.3174 - categorical_accuracy: 0.9066\n",
            "Epoch 00015: saving model to model_init_2021-06-0704_08_41.722991/model-00015-0.31741-0.90659-1.60410-0.34000.h5\n",
            "14/14 [==============================] - 39s 3s/step - loss: 0.3174 - categorical_accuracy: 0.9066 - val_loss: 1.6041 - val_categorical_accuracy: 0.3400\n",
            "Epoch 16/40\n",
            "14/14 [==============================] - ETA: 0s - loss: 0.3334 - categorical_accuracy: 0.8956\n",
            "Epoch 00016: saving model to model_init_2021-06-0704_08_41.722991/model-00016-0.33340-0.89560-1.73516-0.37000.h5\n",
            "14/14 [==============================] - 41s 3s/step - loss: 0.3334 - categorical_accuracy: 0.8956 - val_loss: 1.7352 - val_categorical_accuracy: 0.3700\n",
            "Epoch 17/40\n",
            "14/14 [==============================] - ETA: 0s - loss: 0.3171 - categorical_accuracy: 0.8791\n",
            "Epoch 00017: saving model to model_init_2021-06-0704_08_41.722991/model-00017-0.31705-0.87912-1.85269-0.32000.h5\n",
            "\n",
            "Epoch 00017: ReduceLROnPlateau reducing learning rate to 6.25000029685907e-05.\n",
            "14/14 [==============================] - 41s 3s/step - loss: 0.3171 - categorical_accuracy: 0.8791 - val_loss: 1.8527 - val_categorical_accuracy: 0.3200\n",
            "Epoch 18/40\n",
            "14/14 [==============================] - ETA: 0s - loss: 0.3589 - categorical_accuracy: 0.9011\n",
            "Epoch 00018: saving model to model_init_2021-06-0704_08_41.722991/model-00018-0.35894-0.90110-1.78646-0.36000.h5\n",
            "14/14 [==============================] - 38s 3s/step - loss: 0.3589 - categorical_accuracy: 0.9011 - val_loss: 1.7865 - val_categorical_accuracy: 0.3600\n",
            "Epoch 19/40\n",
            "14/14 [==============================] - ETA: 0s - loss: 0.3835 - categorical_accuracy: 0.8626\n",
            "Epoch 00019: saving model to model_init_2021-06-0704_08_41.722991/model-00019-0.38351-0.86264-1.92498-0.26000.h5\n",
            "14/14 [==============================] - 38s 3s/step - loss: 0.3835 - categorical_accuracy: 0.8626 - val_loss: 1.9250 - val_categorical_accuracy: 0.2600\n",
            "Epoch 20/40\n",
            "14/14 [==============================] - ETA: 0s - loss: 0.2753 - categorical_accuracy: 0.8901\n",
            "Epoch 00020: saving model to model_init_2021-06-0704_08_41.722991/model-00020-0.27525-0.89011-2.03282-0.31000.h5\n",
            "14/14 [==============================] - 39s 3s/step - loss: 0.2753 - categorical_accuracy: 0.8901 - val_loss: 2.0328 - val_categorical_accuracy: 0.3100\n",
            "Epoch 21/40\n",
            "14/14 [==============================] - ETA: 0s - loss: 0.3086 - categorical_accuracy: 0.8846\n",
            "Epoch 00021: saving model to model_init_2021-06-0704_08_41.722991/model-00021-0.30859-0.88462-1.87785-0.31000.h5\n",
            "\n",
            "Epoch 00021: ReduceLROnPlateau reducing learning rate to 3.125000148429535e-05.\n",
            "14/14 [==============================] - 41s 3s/step - loss: 0.3086 - categorical_accuracy: 0.8846 - val_loss: 1.8778 - val_categorical_accuracy: 0.3100\n",
            "Epoch 22/40\n",
            "14/14 [==============================] - ETA: 0s - loss: 0.3995 - categorical_accuracy: 0.8626\n",
            "Epoch 00022: saving model to model_init_2021-06-0704_08_41.722991/model-00022-0.39945-0.86264-1.87561-0.30000.h5\n",
            "14/14 [==============================] - 38s 3s/step - loss: 0.3995 - categorical_accuracy: 0.8626 - val_loss: 1.8756 - val_categorical_accuracy: 0.3000\n",
            "Epoch 23/40\n",
            "14/14 [==============================] - ETA: 0s - loss: 0.2481 - categorical_accuracy: 0.9396\n",
            "Epoch 00023: saving model to model_init_2021-06-0704_08_41.722991/model-00023-0.24811-0.93956-1.66039-0.41000.h5\n",
            "14/14 [==============================] - 41s 3s/step - loss: 0.2481 - categorical_accuracy: 0.9396 - val_loss: 1.6604 - val_categorical_accuracy: 0.4100\n",
            "Epoch 24/40\n",
            "14/14 [==============================] - ETA: 0s - loss: 0.2779 - categorical_accuracy: 0.9011\n",
            "Epoch 00024: saving model to model_init_2021-06-0704_08_41.722991/model-00024-0.27795-0.90110-1.71479-0.36000.h5\n",
            "14/14 [==============================] - 39s 3s/step - loss: 0.2779 - categorical_accuracy: 0.9011 - val_loss: 1.7148 - val_categorical_accuracy: 0.3600\n",
            "Epoch 25/40\n",
            "14/14 [==============================] - ETA: 0s - loss: 0.2960 - categorical_accuracy: 0.8846\n",
            "Epoch 00025: saving model to model_init_2021-06-0704_08_41.722991/model-00025-0.29595-0.88462-1.53745-0.46000.h5\n",
            "\n",
            "Epoch 00025: ReduceLROnPlateau reducing learning rate to 1.5625000742147677e-05.\n",
            "14/14 [==============================] - 39s 3s/step - loss: 0.2960 - categorical_accuracy: 0.8846 - val_loss: 1.5375 - val_categorical_accuracy: 0.4600\n",
            "Epoch 26/40\n",
            "14/14 [==============================] - ETA: 0s - loss: 0.3851 - categorical_accuracy: 0.8516\n",
            "Epoch 00026: saving model to model_init_2021-06-0704_08_41.722991/model-00026-0.38515-0.85165-1.52494-0.44000.h5\n",
            "14/14 [==============================] - 41s 3s/step - loss: 0.3851 - categorical_accuracy: 0.8516 - val_loss: 1.5249 - val_categorical_accuracy: 0.4400\n",
            "Epoch 27/40\n",
            "14/14 [==============================] - ETA: 0s - loss: 0.2508 - categorical_accuracy: 0.9286\n",
            "Epoch 00027: saving model to model_init_2021-06-0704_08_41.722991/model-00027-0.25077-0.92857-1.31722-0.50000.h5\n",
            "14/14 [==============================] - 39s 3s/step - loss: 0.2508 - categorical_accuracy: 0.9286 - val_loss: 1.3172 - val_categorical_accuracy: 0.5000\n",
            "Epoch 28/40\n",
            "14/14 [==============================] - ETA: 0s - loss: 0.3101 - categorical_accuracy: 0.8791\n",
            "Epoch 00028: saving model to model_init_2021-06-0704_08_41.722991/model-00028-0.31007-0.87912-1.33811-0.51000.h5\n",
            "14/14 [==============================] - 40s 3s/step - loss: 0.3101 - categorical_accuracy: 0.8791 - val_loss: 1.3381 - val_categorical_accuracy: 0.5100\n",
            "Epoch 29/40\n",
            "14/14 [==============================] - ETA: 0s - loss: 0.2530 - categorical_accuracy: 0.9176\n",
            "Epoch 00029: saving model to model_init_2021-06-0704_08_41.722991/model-00029-0.25301-0.91758-1.16233-0.54000.h5\n",
            "14/14 [==============================] - 40s 3s/step - loss: 0.2530 - categorical_accuracy: 0.9176 - val_loss: 1.1623 - val_categorical_accuracy: 0.5400\n",
            "Epoch 30/40\n",
            "14/14 [==============================] - ETA: 0s - loss: 0.2732 - categorical_accuracy: 0.9121\n",
            "Epoch 00030: saving model to model_init_2021-06-0704_08_41.722991/model-00030-0.27315-0.91209-1.04614-0.58000.h5\n",
            "14/14 [==============================] - 39s 3s/step - loss: 0.2732 - categorical_accuracy: 0.9121 - val_loss: 1.0461 - val_categorical_accuracy: 0.5800\n",
            "Epoch 31/40\n",
            "14/14 [==============================] - ETA: 0s - loss: 0.3403 - categorical_accuracy: 0.8901\n",
            "Epoch 00031: saving model to model_init_2021-06-0704_08_41.722991/model-00031-0.34027-0.89011-0.99370-0.58000.h5\n",
            "14/14 [==============================] - 40s 3s/step - loss: 0.3403 - categorical_accuracy: 0.8901 - val_loss: 0.9937 - val_categorical_accuracy: 0.5800\n",
            "Epoch 32/40\n",
            "14/14 [==============================] - ETA: 0s - loss: 0.3274 - categorical_accuracy: 0.9011\n",
            "Epoch 00032: saving model to model_init_2021-06-0704_08_41.722991/model-00032-0.32743-0.90110-0.95142-0.62000.h5\n",
            "14/14 [==============================] - 42s 3s/step - loss: 0.3274 - categorical_accuracy: 0.9011 - val_loss: 0.9514 - val_categorical_accuracy: 0.6200\n",
            "Epoch 33/40\n",
            "14/14 [==============================] - ETA: 0s - loss: 0.2159 - categorical_accuracy: 0.9341\n",
            "Epoch 00033: saving model to model_init_2021-06-0704_08_41.722991/model-00033-0.21589-0.93407-0.86281-0.62000.h5\n",
            "14/14 [==============================] - 43s 3s/step - loss: 0.2159 - categorical_accuracy: 0.9341 - val_loss: 0.8628 - val_categorical_accuracy: 0.6200\n",
            "Epoch 34/40\n",
            "14/14 [==============================] - ETA: 0s - loss: 0.3645 - categorical_accuracy: 0.8901\n",
            "Epoch 00034: saving model to model_init_2021-06-0704_08_41.722991/model-00034-0.36452-0.89011-0.78446-0.69000.h5\n",
            "14/14 [==============================] - 41s 3s/step - loss: 0.3645 - categorical_accuracy: 0.8901 - val_loss: 0.7845 - val_categorical_accuracy: 0.6900\n",
            "Epoch 35/40\n",
            "14/14 [==============================] - ETA: 0s - loss: 0.2930 - categorical_accuracy: 0.8846\n",
            "Epoch 00035: saving model to model_init_2021-06-0704_08_41.722991/model-00035-0.29300-0.88462-0.72216-0.74000.h5\n",
            "14/14 [==============================] - 41s 3s/step - loss: 0.2930 - categorical_accuracy: 0.8846 - val_loss: 0.7222 - val_categorical_accuracy: 0.7400\n",
            "Epoch 36/40\n",
            "14/14 [==============================] - ETA: 0s - loss: 0.3026 - categorical_accuracy: 0.8791\n",
            "Epoch 00036: saving model to model_init_2021-06-0704_08_41.722991/model-00036-0.30255-0.87912-0.71998-0.71000.h5\n",
            "14/14 [==============================] - 42s 3s/step - loss: 0.3026 - categorical_accuracy: 0.8791 - val_loss: 0.7200 - val_categorical_accuracy: 0.7100\n",
            "Epoch 37/40\n",
            "14/14 [==============================] - ETA: 0s - loss: 0.2513 - categorical_accuracy: 0.9286\n",
            "Epoch 00037: saving model to model_init_2021-06-0704_08_41.722991/model-00037-0.25129-0.92857-0.59744-0.76000.h5\n",
            "14/14 [==============================] - 41s 3s/step - loss: 0.2513 - categorical_accuracy: 0.9286 - val_loss: 0.5974 - val_categorical_accuracy: 0.7600\n",
            "Epoch 38/40\n",
            "14/14 [==============================] - ETA: 0s - loss: 0.3270 - categorical_accuracy: 0.8791\n",
            "Epoch 00038: saving model to model_init_2021-06-0704_08_41.722991/model-00038-0.32697-0.87912-0.60943-0.76000.h5\n",
            "14/14 [==============================] - 42s 3s/step - loss: 0.3270 - categorical_accuracy: 0.8791 - val_loss: 0.6094 - val_categorical_accuracy: 0.7600\n",
            "Epoch 39/40\n",
            "14/14 [==============================] - ETA: 0s - loss: 0.3198 - categorical_accuracy: 0.8901\n",
            "Epoch 00039: saving model to model_init_2021-06-0704_08_41.722991/model-00039-0.31977-0.89011-0.50619-0.81000.h5\n",
            "14/14 [==============================] - 43s 3s/step - loss: 0.3198 - categorical_accuracy: 0.8901 - val_loss: 0.5062 - val_categorical_accuracy: 0.8100\n",
            "Epoch 40/40\n",
            "14/14 [==============================] - ETA: 0s - loss: 0.2595 - categorical_accuracy: 0.9286\n",
            "Epoch 00040: saving model to model_init_2021-06-0704_08_41.722991/model-00040-0.25953-0.92857-0.55812-0.77000.h5\n",
            "14/14 [==============================] - 42s 3s/step - loss: 0.2595 - categorical_accuracy: 0.9286 - val_loss: 0.5581 - val_categorical_accuracy: 0.7700\n"
          ],
          "name": "stdout"
        }
      ]
    },
    {
      "cell_type": "code",
      "metadata": {
        "id": "ukujO77jkV2p",
        "outputId": "d1c08f47-ad4f-40d2-8413-fe8f3b81b540"
      },
      "source": [
        "plottingModelHistory(model_5_history)"
      ],
      "execution_count": null,
      "outputs": [
        {
          "output_type": "display_data",
          "data": {
            "image/png": "[encoded data removed]",
            "text/plain": [
              "<Figure size 1080x288 with 2 Axes>"
            ]
          },
          "metadata": {
            "tags": [],
            "needs_background": "light"
          }
        },
        {
          "output_type": "stream",
          "text": [
            "\u001b[1m Maximum Training Accuracy 93.96 %\n",
            "\u001b[1m Maximum Validaiton Accuracy 81.0 %\n"
          ],
          "name": "stdout"
        }
      ]
    },
    {
      "cell_type": "code",
      "metadata": {
        "id": "_Ucl1NXskV2p",
        "outputId": "7ec2de0a-25f0-4632-9da4-546e1f2e8ad6"
      },
      "source": [
        "#Model 6: Frames:20, Epocs-40, BS-64, reduced kernel to (2,2,2), switching BatchNormalization before MaxPooling.\n",
        "n_frames = 20\n",
        "num_epochs = 40\n",
        "batch_size = 50\n",
        "\n",
        "img_tensor = getImgTensor(n_frames)\n",
        "train_generator = generator(train_path, train_doc, batch_size,img_tensor)\n",
        "val_generator = generator(val_path, val_doc, batch_size,img_tensor)\n",
        "\n",
        "if (num_train_sequences%batch_size) == 0:\n",
        "    steps_per_epoch = int(num_train_sequences/batch_size)\n",
        "else:\n",
        "    steps_per_epoch = (num_train_sequences//batch_size) + 1\n",
        "\n",
        "if (num_val_sequences%batch_size) == 0:\n",
        "    validation_steps = int(num_val_sequences/batch_size)\n",
        "else:\n",
        "    validation_steps = (num_val_sequences//batch_size) + 1\n",
        "    \n",
        "inputShape = (len(img_tensor[0]), img_tensor[1], img_tensor[2], img_tensor[3])\n",
        "\n",
        "model_6 = Sequential([\n",
        "    Conv3D(16, make3dFilter(2), padding='same', activation='relu', input_shape=inputShape),\n",
        "    BatchNormalization(),\n",
        "    MaxPooling3D(make3dFilter(2)),\n",
        "\n",
        "    Conv3D(32, make3dFilter(2), padding='same', activation='relu'),\n",
        "    BatchNormalization(),\n",
        "    MaxPooling3D(pool_size=(2)),\n",
        "\n",
        "    Conv3D(64, make3dFilter(2), padding='same', activation='relu'),\n",
        "    BatchNormalization(),\n",
        "    MaxPooling3D(pool_size=(2)),\n",
        "\n",
        "    Conv3D(128, make3dFilter(2), padding='same', activation='relu'),\n",
        "    BatchNormalization(),\n",
        "    MaxPooling3D(pool_size=(2)),\n",
        "\n",
        "    Flatten(),\n",
        "    Dense(256, activation='relu'),\n",
        "    Dense(128, activation='relu'),\n",
        "    \n",
        "    Dense(5, activation='softmax')\n",
        "], name=\"conv_3d6\")\n",
        "model_6.compile(optimizer=optimizers.Adam(), loss='categorical_crossentropy', metrics=['categorical_accuracy'])\n",
        "print(model_6.summary())\n"
      ],
      "execution_count": null,
      "outputs": [
        {
          "output_type": "stream",
          "text": [
            "Model: \"conv_3d6\"\n",
            "_________________________________________________________________\n",
            "Layer (type)                 Output Shape              Param #   \n",
            "=================================================================\n",
            "conv3d_17 (Conv3D)           (None, 20, 100, 100, 16)  400       \n",
            "_________________________________________________________________\n",
            "batch_normalization_27 (Batc (None, 20, 100, 100, 16)  64        \n",
            "_________________________________________________________________\n",
            "max_pooling3d_17 (MaxPooling (None, 10, 50, 50, 16)    0         \n",
            "_________________________________________________________________\n",
            "conv3d_18 (Conv3D)           (None, 10, 50, 50, 32)    4128      \n",
            "_________________________________________________________________\n",
            "batch_normalization_28 (Batc (None, 10, 50, 50, 32)    128       \n",
            "_________________________________________________________________\n",
            "max_pooling3d_18 (MaxPooling (None, 5, 25, 25, 32)     0         \n",
            "_________________________________________________________________\n",
            "conv3d_19 (Conv3D)           (None, 5, 25, 25, 64)     16448     \n",
            "_________________________________________________________________\n",
            "batch_normalization_29 (Batc (None, 5, 25, 25, 64)     256       \n",
            "_________________________________________________________________\n",
            "max_pooling3d_19 (MaxPooling (None, 2, 12, 12, 64)     0         \n",
            "_________________________________________________________________\n",
            "conv3d_20 (Conv3D)           (None, 2, 12, 12, 128)    65664     \n",
            "_________________________________________________________________\n",
            "batch_normalization_30 (Batc (None, 2, 12, 12, 128)    512       \n",
            "_________________________________________________________________\n",
            "max_pooling3d_20 (MaxPooling (None, 1, 6, 6, 128)      0         \n",
            "_________________________________________________________________\n",
            "flatten_5 (Flatten)          (None, 4608)              0         \n",
            "_________________________________________________________________\n",
            "dense_15 (Dense)             (None, 256)               1179904   \n",
            "_________________________________________________________________\n",
            "dense_16 (Dense)             (None, 128)               32896     \n",
            "_________________________________________________________________\n",
            "dense_17 (Dense)             (None, 5)                 645       \n",
            "=================================================================\n",
            "Total params: 1,301,045\n",
            "Trainable params: 1,300,565\n",
            "Non-trainable params: 480\n",
            "_________________________________________________________________\n",
            "None\n"
          ],
          "name": "stdout"
        }
      ]
    },
    {
      "cell_type": "code",
      "metadata": {
        "id": "zHLlJKrwkV2p",
        "outputId": "c75cd4fa-c0ee-4b27-86a7-498ab44e2468"
      },
      "source": [
        "model_6_history = model_6.fit_generator(train_generator, steps_per_epoch=steps_per_epoch, epochs=num_epochs, verbose=1, \n",
        "            callbacks=callbacks_list, validation_data=val_generator, \n",
        "            validation_steps=validation_steps, class_weight=None, workers=1, initial_epoch=0)"
      ],
      "execution_count": null,
      "outputs": [
        {
          "output_type": "stream",
          "text": [
            "Source path =  datasets/Project_data/train ; batch size = 50\n",
            "Epoch 1/40\n",
            "14/14 [==============================] - ETA: 0s - loss: 2.7545 - categorical_accuracy: 0.4129Source path =  datasets/Project_data/val ; batch size = 50\n",
            "\n",
            "Epoch 00001: saving model to model_init_2021-06-0704_08_41.722991/model-00001-2.75448-0.41286-1.53836-0.33000.h5\n",
            "14/14 [==============================] - 97s 7s/step - loss: 2.7545 - categorical_accuracy: 0.4129 - val_loss: 1.5384 - val_categorical_accuracy: 0.3300\n",
            "Epoch 2/40\n",
            "14/14 [==============================] - ETA: 0s - loss: 1.2688 - categorical_accuracy: 0.5495\n",
            "Epoch 00002: saving model to model_init_2021-06-0704_08_41.722991/model-00002-1.26883-0.54945-2.56200-0.25000.h5\n",
            "14/14 [==============================] - 41s 3s/step - loss: 1.2688 - categorical_accuracy: 0.5495 - val_loss: 2.5620 - val_categorical_accuracy: 0.2500\n",
            "Epoch 3/40\n",
            "14/14 [==============================] - ETA: 0s - loss: 0.8004 - categorical_accuracy: 0.7088\n",
            "Epoch 00003: saving model to model_init_2021-06-0704_08_41.722991/model-00003-0.80036-0.70879-4.74681-0.21000.h5\n",
            "14/14 [==============================] - 40s 3s/step - loss: 0.8004 - categorical_accuracy: 0.7088 - val_loss: 4.7468 - val_categorical_accuracy: 0.2100\n",
            "Epoch 4/40\n",
            "14/14 [==============================] - ETA: 0s - loss: 0.6920 - categorical_accuracy: 0.7582\n",
            "Epoch 00004: saving model to model_init_2021-06-0704_08_41.722991/model-00004-0.69199-0.75824-7.10133-0.16000.h5\n",
            "14/14 [==============================] - 44s 3s/step - loss: 0.6920 - categorical_accuracy: 0.7582 - val_loss: 7.1013 - val_categorical_accuracy: 0.1600\n",
            "Epoch 5/40\n",
            "14/14 [==============================] - ETA: 0s - loss: 0.7090 - categorical_accuracy: 0.7418\n",
            "Epoch 00005: saving model to model_init_2021-06-0704_08_41.722991/model-00005-0.70905-0.74176-7.09588-0.21000.h5\n",
            "\n",
            "Epoch 00005: ReduceLROnPlateau reducing learning rate to 0.0005000000237487257.\n",
            "14/14 [==============================] - 42s 3s/step - loss: 0.7090 - categorical_accuracy: 0.7418 - val_loss: 7.0959 - val_categorical_accuracy: 0.2100\n",
            "Epoch 6/40\n",
            "14/14 [==============================] - ETA: 0s - loss: 0.4417 - categorical_accuracy: 0.8132\n",
            "Epoch 00006: saving model to model_init_2021-06-0704_08_41.722991/model-00006-0.44173-0.81319-8.19807-0.24000.h5\n",
            "14/14 [==============================] - 42s 3s/step - loss: 0.4417 - categorical_accuracy: 0.8132 - val_loss: 8.1981 - val_categorical_accuracy: 0.2400\n",
            "Epoch 7/40\n",
            "14/14 [==============================] - ETA: 0s - loss: 0.3405 - categorical_accuracy: 0.8681\n",
            "Epoch 00007: saving model to model_init_2021-06-0704_08_41.722991/model-00007-0.34046-0.86813-8.66963-0.21000.h5\n",
            "14/14 [==============================] - 40s 3s/step - loss: 0.3405 - categorical_accuracy: 0.8681 - val_loss: 8.6696 - val_categorical_accuracy: 0.2100\n",
            "Epoch 8/40\n",
            "14/14 [==============================] - ETA: 0s - loss: 0.2864 - categorical_accuracy: 0.8681\n",
            "Epoch 00008: saving model to model_init_2021-06-0704_08_41.722991/model-00008-0.28644-0.86813-9.23223-0.24000.h5\n",
            "14/14 [==============================] - 40s 3s/step - loss: 0.2864 - categorical_accuracy: 0.8681 - val_loss: 9.2322 - val_categorical_accuracy: 0.2400\n",
            "Epoch 9/40\n",
            "14/14 [==============================] - ETA: 0s - loss: 0.2369 - categorical_accuracy: 0.9341\n",
            "Epoch 00009: saving model to model_init_2021-06-0704_08_41.722991/model-00009-0.23692-0.93407-9.74812-0.21000.h5\n",
            "\n",
            "Epoch 00009: ReduceLROnPlateau reducing learning rate to 0.0002500000118743628.\n",
            "14/14 [==============================] - 40s 3s/step - loss: 0.2369 - categorical_accuracy: 0.9341 - val_loss: 9.7481 - val_categorical_accuracy: 0.2100\n",
            "Epoch 10/40\n",
            "14/14 [==============================] - ETA: 0s - loss: 0.1553 - categorical_accuracy: 0.9615\n",
            "Epoch 00010: saving model to model_init_2021-06-0704_08_41.722991/model-00010-0.15528-0.96154-10.81056-0.15000.h5\n",
            "14/14 [==============================] - 38s 3s/step - loss: 0.1553 - categorical_accuracy: 0.9615 - val_loss: 10.8106 - val_categorical_accuracy: 0.1500\n",
            "Epoch 11/40\n",
            "14/14 [==============================] - ETA: 0s - loss: 0.1400 - categorical_accuracy: 0.9505\n",
            "Epoch 00011: saving model to model_init_2021-06-0704_08_41.722991/model-00011-0.13999-0.95055-10.46148-0.21000.h5\n",
            "14/14 [==============================] - 41s 3s/step - loss: 0.1400 - categorical_accuracy: 0.9505 - val_loss: 10.4615 - val_categorical_accuracy: 0.2100\n",
            "Epoch 12/40\n",
            "14/14 [==============================] - ETA: 0s - loss: 0.0904 - categorical_accuracy: 0.9780\n",
            "Epoch 00012: saving model to model_init_2021-06-0704_08_41.722991/model-00012-0.09039-0.97802-10.64382-0.19000.h5\n",
            "14/14 [==============================] - 40s 3s/step - loss: 0.0904 - categorical_accuracy: 0.9780 - val_loss: 10.6438 - val_categorical_accuracy: 0.1900\n",
            "Epoch 13/40\n",
            "14/14 [==============================] - ETA: 0s - loss: 0.0643 - categorical_accuracy: 0.9890\n",
            "Epoch 00013: saving model to model_init_2021-06-0704_08_41.722991/model-00013-0.06427-0.98901-10.22922-0.21000.h5\n",
            "\n",
            "Epoch 00013: ReduceLROnPlateau reducing learning rate to 0.0001250000059371814.\n",
            "14/14 [==============================] - 40s 3s/step - loss: 0.0643 - categorical_accuracy: 0.9890 - val_loss: 10.2292 - val_categorical_accuracy: 0.2100\n",
            "Epoch 14/40\n",
            "14/14 [==============================] - ETA: 0s - loss: 0.0555 - categorical_accuracy: 0.9890\n",
            "Epoch 00014: saving model to model_init_2021-06-0704_08_41.722991/model-00014-0.05552-0.98901-10.57228-0.17000.h5\n",
            "14/14 [==============================] - 39s 3s/step - loss: 0.0555 - categorical_accuracy: 0.9890 - val_loss: 10.5723 - val_categorical_accuracy: 0.1700\n",
            "Epoch 15/40\n",
            "14/14 [==============================] - ETA: 0s - loss: 0.0847 - categorical_accuracy: 0.9780\n",
            "Epoch 00015: saving model to model_init_2021-06-0704_08_41.722991/model-00015-0.08472-0.97802-9.85177-0.21000.h5\n",
            "14/14 [==============================] - 39s 3s/step - loss: 0.0847 - categorical_accuracy: 0.9780 - val_loss: 9.8518 - val_categorical_accuracy: 0.2100\n",
            "Epoch 16/40\n",
            "14/14 [==============================] - ETA: 0s - loss: 0.0471 - categorical_accuracy: 0.9945\n",
            "Epoch 00016: saving model to model_init_2021-06-0704_08_41.722991/model-00016-0.04715-0.99451-10.54905-0.16000.h5\n",
            "14/14 [==============================] - 40s 3s/step - loss: 0.0471 - categorical_accuracy: 0.9945 - val_loss: 10.5491 - val_categorical_accuracy: 0.1600\n",
            "Epoch 17/40\n",
            "14/14 [==============================] - ETA: 0s - loss: 0.0300 - categorical_accuracy: 1.0000\n",
            "Epoch 00017: saving model to model_init_2021-06-0704_08_41.722991/model-00017-0.02997-1.00000-9.13435-0.21000.h5\n",
            "\n",
            "Epoch 00017: ReduceLROnPlateau reducing learning rate to 6.25000029685907e-05.\n",
            "14/14 [==============================] - 39s 3s/step - loss: 0.0300 - categorical_accuracy: 1.0000 - val_loss: 9.1344 - val_categorical_accuracy: 0.2100\n",
            "Epoch 18/40\n",
            "14/14 [==============================] - ETA: 0s - loss: 0.0382 - categorical_accuracy: 1.0000\n",
            "Epoch 00018: saving model to model_init_2021-06-0704_08_41.722991/model-00018-0.03816-1.00000-8.38774-0.21000.h5\n",
            "14/14 [==============================] - 41s 3s/step - loss: 0.0382 - categorical_accuracy: 1.0000 - val_loss: 8.3877 - val_categorical_accuracy: 0.2100\n",
            "Epoch 19/40\n",
            "14/14 [==============================] - ETA: 0s - loss: 0.0462 - categorical_accuracy: 0.9945\n",
            "Epoch 00019: saving model to model_init_2021-06-0704_08_41.722991/model-00019-0.04623-0.99451-7.70487-0.21000.h5\n",
            "14/14 [==============================] - 42s 3s/step - loss: 0.0462 - categorical_accuracy: 0.9945 - val_loss: 7.7049 - val_categorical_accuracy: 0.2100\n",
            "Epoch 20/40\n",
            "14/14 [==============================] - ETA: 0s - loss: 0.0399 - categorical_accuracy: 0.9945\n",
            "Epoch 00020: saving model to model_init_2021-06-0704_08_41.722991/model-00020-0.03990-0.99451-7.16360-0.18000.h5\n",
            "14/14 [==============================] - 41s 3s/step - loss: 0.0399 - categorical_accuracy: 0.9945 - val_loss: 7.1636 - val_categorical_accuracy: 0.1800\n",
            "Epoch 21/40\n",
            "14/14 [==============================] - ETA: 0s - loss: 0.0321 - categorical_accuracy: 0.9945\n",
            "Epoch 00021: saving model to model_init_2021-06-0704_08_41.722991/model-00021-0.03213-0.99451-6.11458-0.21000.h5\n",
            "\n",
            "Epoch 00021: ReduceLROnPlateau reducing learning rate to 3.125000148429535e-05.\n",
            "14/14 [==============================] - 41s 3s/step - loss: 0.0321 - categorical_accuracy: 0.9945 - val_loss: 6.1146 - val_categorical_accuracy: 0.2100\n",
            "Epoch 22/40\n",
            "14/14 [==============================] - ETA: 0s - loss: 0.0395 - categorical_accuracy: 1.0000\n",
            "Epoch 00022: saving model to model_init_2021-06-0704_08_41.722991/model-00022-0.03954-1.00000-5.49020-0.21000.h5\n",
            "14/14 [==============================] - 43s 3s/step - loss: 0.0395 - categorical_accuracy: 1.0000 - val_loss: 5.4902 - val_categorical_accuracy: 0.2100\n",
            "Epoch 23/40\n",
            "14/14 [==============================] - ETA: 0s - loss: 0.0331 - categorical_accuracy: 1.0000\n",
            "Epoch 00023: saving model to model_init_2021-06-0704_08_41.722991/model-00023-0.03312-1.00000-4.61467-0.21000.h5\n",
            "14/14 [==============================] - 42s 3s/step - loss: 0.0331 - categorical_accuracy: 1.0000 - val_loss: 4.6147 - val_categorical_accuracy: 0.2100\n",
            "Epoch 24/40\n",
            "14/14 [==============================] - ETA: 0s - loss: 0.0659 - categorical_accuracy: 0.9835\n",
            "Epoch 00024: saving model to model_init_2021-06-0704_08_41.722991/model-00024-0.06595-0.98352-4.24982-0.20000.h5\n",
            "14/14 [==============================] - 44s 3s/step - loss: 0.0659 - categorical_accuracy: 0.9835 - val_loss: 4.2498 - val_categorical_accuracy: 0.2000\n",
            "Epoch 25/40\n",
            "14/14 [==============================] - ETA: 0s - loss: 0.0534 - categorical_accuracy: 0.9890\n",
            "Epoch 00025: saving model to model_init_2021-06-0704_08_41.722991/model-00025-0.05336-0.98901-3.58801-0.27000.h5\n",
            "\n",
            "Epoch 00025: ReduceLROnPlateau reducing learning rate to 1.5625000742147677e-05.\n",
            "14/14 [==============================] - 40s 3s/step - loss: 0.0534 - categorical_accuracy: 0.9890 - val_loss: 3.5880 - val_categorical_accuracy: 0.2700\n",
            "Epoch 26/40\n",
            "14/14 [==============================] - ETA: 0s - loss: 0.0282 - categorical_accuracy: 1.0000\n",
            "Epoch 00026: saving model to model_init_2021-06-0704_08_41.722991/model-00026-0.02822-1.00000-3.42619-0.31000.h5\n",
            "14/14 [==============================] - 41s 3s/step - loss: 0.0282 - categorical_accuracy: 1.0000 - val_loss: 3.4262 - val_categorical_accuracy: 0.3100\n",
            "Epoch 27/40\n",
            "14/14 [==============================] - ETA: 0s - loss: 0.0363 - categorical_accuracy: 1.0000\n",
            "Epoch 00027: saving model to model_init_2021-06-0704_08_41.722991/model-00027-0.03632-1.00000-2.85364-0.38000.h5\n",
            "14/14 [==============================] - 41s 3s/step - loss: 0.0363 - categorical_accuracy: 1.0000 - val_loss: 2.8536 - val_categorical_accuracy: 0.3800\n",
            "Epoch 28/40\n",
            "14/14 [==============================] - ETA: 0s - loss: 0.0549 - categorical_accuracy: 0.9835\n",
            "Epoch 00028: saving model to model_init_2021-06-0704_08_41.722991/model-00028-0.05494-0.98352-2.61003-0.39000.h5\n",
            "14/14 [==============================] - 41s 3s/step - loss: 0.0549 - categorical_accuracy: 0.9835 - val_loss: 2.6100 - val_categorical_accuracy: 0.3900\n",
            "Epoch 29/40\n",
            "14/14 [==============================] - ETA: 0s - loss: 0.0211 - categorical_accuracy: 1.0000\n",
            "Epoch 00029: saving model to model_init_2021-06-0704_08_41.722991/model-00029-0.02106-1.00000-2.34552-0.45000.h5\n",
            "\n",
            "Epoch 00029: ReduceLROnPlateau reducing learning rate to 7.812500371073838e-06.\n",
            "14/14 [==============================] - 41s 3s/step - loss: 0.0211 - categorical_accuracy: 1.0000 - val_loss: 2.3455 - val_categorical_accuracy: 0.4500\n",
            "Epoch 30/40\n",
            "14/14 [==============================] - ETA: 0s - loss: 0.0377 - categorical_accuracy: 1.0000\n",
            "Epoch 00030: saving model to model_init_2021-06-0704_08_41.722991/model-00030-0.03774-1.00000-2.00530-0.54000.h5\n",
            "14/14 [==============================] - 42s 3s/step - loss: 0.0377 - categorical_accuracy: 1.0000 - val_loss: 2.0053 - val_categorical_accuracy: 0.5400\n",
            "Epoch 31/40\n",
            "14/14 [==============================] - ETA: 0s - loss: 0.0269 - categorical_accuracy: 1.0000\n",
            "Epoch 00031: saving model to model_init_2021-06-0704_08_41.722991/model-00031-0.02687-1.00000-1.92067-0.51000.h5\n",
            "14/14 [==============================] - 40s 3s/step - loss: 0.0269 - categorical_accuracy: 1.0000 - val_loss: 1.9207 - val_categorical_accuracy: 0.5100\n",
            "Epoch 32/40\n",
            "14/14 [==============================] - ETA: 0s - loss: 0.0224 - categorical_accuracy: 1.0000\n",
            "Epoch 00032: saving model to model_init_2021-06-0704_08_41.722991/model-00032-0.02235-1.00000-1.83222-0.50000.h5\n",
            "14/14 [==============================] - 39s 3s/step - loss: 0.0224 - categorical_accuracy: 1.0000 - val_loss: 1.8322 - val_categorical_accuracy: 0.5000\n",
            "Epoch 33/40\n",
            "14/14 [==============================] - ETA: 0s - loss: 0.0502 - categorical_accuracy: 0.9945\n",
            "Epoch 00033: saving model to model_init_2021-06-0704_08_41.722991/model-00033-0.05022-0.99451-1.51543-0.55000.h5\n",
            "14/14 [==============================] - 40s 3s/step - loss: 0.0502 - categorical_accuracy: 0.9945 - val_loss: 1.5154 - val_categorical_accuracy: 0.5500\n",
            "Epoch 34/40\n",
            "14/14 [==============================] - ETA: 0s - loss: 0.0373 - categorical_accuracy: 0.9945\n",
            "Epoch 00034: saving model to model_init_2021-06-0704_08_41.722991/model-00034-0.03726-0.99451-1.42683-0.52000.h5\n",
            "14/14 [==============================] - 40s 3s/step - loss: 0.0373 - categorical_accuracy: 0.9945 - val_loss: 1.4268 - val_categorical_accuracy: 0.5200\n",
            "Epoch 35/40\n",
            "14/14 [==============================] - ETA: 0s - loss: 0.0352 - categorical_accuracy: 0.9945\n",
            "Epoch 00035: saving model to model_init_2021-06-0704_08_41.722991/model-00035-0.03524-0.99451-1.15839-0.63000.h5\n",
            "14/14 [==============================] - 39s 3s/step - loss: 0.0352 - categorical_accuracy: 0.9945 - val_loss: 1.1584 - val_categorical_accuracy: 0.6300\n",
            "Epoch 36/40\n",
            "14/14 [==============================] - ETA: 0s - loss: 0.0312 - categorical_accuracy: 1.0000\n",
            "Epoch 00036: saving model to model_init_2021-06-0704_08_41.722991/model-00036-0.03119-1.00000-1.12453-0.61000.h5\n",
            "14/14 [==============================] - 40s 3s/step - loss: 0.0312 - categorical_accuracy: 1.0000 - val_loss: 1.1245 - val_categorical_accuracy: 0.6100\n",
            "Epoch 37/40\n",
            "14/14 [==============================] - ETA: 0s - loss: 0.0314 - categorical_accuracy: 1.0000\n",
            "Epoch 00037: saving model to model_init_2021-06-0704_08_41.722991/model-00037-0.03140-1.00000-0.90900-0.71000.h5\n",
            "14/14 [==============================] - 43s 3s/step - loss: 0.0314 - categorical_accuracy: 1.0000 - val_loss: 0.9090 - val_categorical_accuracy: 0.7100\n",
            "Epoch 38/40\n",
            "14/14 [==============================] - ETA: 0s - loss: 0.0289 - categorical_accuracy: 1.0000\n",
            "Epoch 00038: saving model to model_init_2021-06-0704_08_41.722991/model-00038-0.02893-1.00000-0.70583-0.76000.h5\n",
            "14/14 [==============================] - 40s 3s/step - loss: 0.0289 - categorical_accuracy: 1.0000 - val_loss: 0.7058 - val_categorical_accuracy: 0.7600\n",
            "Epoch 39/40\n",
            "14/14 [==============================] - ETA: 0s - loss: 0.0296 - categorical_accuracy: 1.0000\n",
            "Epoch 00039: saving model to model_init_2021-06-0704_08_41.722991/model-00039-0.02962-1.00000-0.72455-0.76000.h5\n",
            "14/14 [==============================] - 41s 3s/step - loss: 0.0296 - categorical_accuracy: 1.0000 - val_loss: 0.7245 - val_categorical_accuracy: 0.7600\n",
            "Epoch 40/40\n",
            "14/14 [==============================] - ETA: 0s - loss: 0.0195 - categorical_accuracy: 1.0000\n",
            "Epoch 00040: saving model to model_init_2021-06-0704_08_41.722991/model-00040-0.01950-1.00000-0.63139-0.77000.h5\n",
            "14/14 [==============================] - 43s 3s/step - loss: 0.0195 - categorical_accuracy: 1.0000 - val_loss: 0.6314 - val_categorical_accuracy: 0.7700\n"
          ],
          "name": "stdout"
        }
      ]
    },
    {
      "cell_type": "code",
      "metadata": {
        "id": "3yIy3s1ZkV2q",
        "outputId": "937b2538-9c4d-41d3-8d7a-847e13e5d631"
      },
      "source": [
        "plottingModelHistory(model_6_history)"
      ],
      "execution_count": null,
      "outputs": [
        {
          "output_type": "display_data",
          "data": {
            "image/png": "[encoded data removed]",
            "text/plain": [
              "<Figure size 1080x288 with 2 Axes>"
            ]
          },
          "metadata": {
            "tags": [],
            "needs_background": "light"
          }
        },
        {
          "output_type": "stream",
          "text": [
            "\u001b[1m Maximum Training Accuracy 100.0 %\n",
            "\u001b[1m Maximum Validaiton Accuracy 77.0 %\n"
          ],
          "name": "stdout"
        }
      ]
    },
    {
      "cell_type": "code",
      "metadata": {
        "id": "W0oThA1KkV2q",
        "outputId": "79792420-34ee-4149-b3b0-29ca3f5b7db8"
      },
      "source": [
        "#Model 7: Switching Model architecture to Conv2D+LSTM\n",
        "n_frames = 20\n",
        "num_epochs = 30\n",
        "batch_size = 32\n",
        "\n",
        "img_tensor = getImgTensor(n_frames)\n",
        "train_generator = generator(train_path, train_doc, batch_size, img_tensor)\n",
        "val_generator = generator(val_path, val_doc, batch_size, img_tensor)\n",
        "\n",
        "if (num_train_sequences%batch_size) == 0:\n",
        "    steps_per_epoch = int(num_train_sequences/batch_size)\n",
        "else:\n",
        "    steps_per_epoch = (num_train_sequences//batch_size) + 1\n",
        "\n",
        "if (num_val_sequences%batch_size) == 0:\n",
        "    validation_steps = int(num_val_sequences/batch_size)\n",
        "else:\n",
        "    validation_steps = (num_val_sequences//batch_size) + 1\n",
        "    \n",
        "inputShape = (len(img_tensor[0]), img_tensor[1], img_tensor[2], img_tensor[3])\n",
        "\n",
        "model_7 = Sequential([\n",
        "    TimeDistributed(Conv2D(16, make2dFilter(3), padding='same', activation='relu'), input_shape=inputShape),\n",
        "    TimeDistributed(BatchNormalization()),\n",
        "    TimeDistributed(MaxPooling2D(make2dFilter(2))),\n",
        "\n",
        "    TimeDistributed(Conv2D(32, make2dFilter(3), padding='same', activation='relu')),\n",
        "    TimeDistributed(BatchNormalization()),\n",
        "    TimeDistributed(MaxPooling2D(make2dFilter(2))),\n",
        "\n",
        "    TimeDistributed(Conv2D(64, make2dFilter(3), padding='same', activation='relu')),\n",
        "    TimeDistributed(BatchNormalization()),\n",
        "    TimeDistributed(MaxPooling2D(make2dFilter(2))),\n",
        "\n",
        "    TimeDistributed(Conv2D(128, make2dFilter(3), padding='same', activation='relu')),\n",
        "    TimeDistributed(BatchNormalization()),\n",
        "    TimeDistributed(MaxPooling2D(make2dFilter(2))),\n",
        "\n",
        "    TimeDistributed(Conv2D(256, make2dFilter(3), padding='same', activation='relu')),\n",
        "    TimeDistributed(BatchNormalization()),\n",
        "    TimeDistributed(MaxPooling2D(make2dFilter(2))),\n",
        "\n",
        "    TimeDistributed(Flatten()),\n",
        "    LSTM(256),\n",
        "    Dropout(0.2),\n",
        "\n",
        "    Dense(256, activation='relu'),\n",
        "    Dropout(0.2),\n",
        "\n",
        "    Dense(5, activation='softmax')\n",
        "], name=\"conv_2d_lstm\")\n",
        "model_7.compile(optimizer=optimizers.Adam(), loss='categorical_crossentropy', metrics=['categorical_accuracy'])\n",
        "print(model_7.summary())\n",
        "\n"
      ],
      "execution_count": null,
      "outputs": [
        {
          "output_type": "stream",
          "text": [
            "Model: \"conv_2d_lstm\"\n",
            "_________________________________________________________________\n",
            "Layer (type)                 Output Shape              Param #   \n",
            "=================================================================\n",
            "time_distributed (TimeDistri (None, 20, 100, 100, 16)  448       \n",
            "_________________________________________________________________\n",
            "time_distributed_1 (TimeDist (None, 20, 100, 100, 16)  64        \n",
            "_________________________________________________________________\n",
            "time_distributed_2 (TimeDist (None, 20, 50, 50, 16)    0         \n",
            "_________________________________________________________________\n",
            "time_distributed_3 (TimeDist (None, 20, 50, 50, 32)    4640      \n",
            "_________________________________________________________________\n",
            "time_distributed_4 (TimeDist (None, 20, 50, 50, 32)    128       \n",
            "_________________________________________________________________\n",
            "time_distributed_5 (TimeDist (None, 20, 25, 25, 32)    0         \n",
            "_________________________________________________________________\n",
            "time_distributed_6 (TimeDist (None, 20, 25, 25, 64)    18496     \n",
            "_________________________________________________________________\n",
            "time_distributed_7 (TimeDist (None, 20, 25, 25, 64)    256       \n",
            "_________________________________________________________________\n",
            "time_distributed_8 (TimeDist (None, 20, 12, 12, 64)    0         \n",
            "_________________________________________________________________\n",
            "time_distributed_9 (TimeDist (None, 20, 12, 12, 128)   73856     \n",
            "_________________________________________________________________\n",
            "time_distributed_10 (TimeDis (None, 20, 12, 12, 128)   512       \n",
            "_________________________________________________________________\n",
            "time_distributed_11 (TimeDis (None, 20, 6, 6, 128)     0         \n",
            "_________________________________________________________________\n",
            "time_distributed_12 (TimeDis (None, 20, 6, 6, 256)     295168    \n",
            "_________________________________________________________________\n",
            "time_distributed_13 (TimeDis (None, 20, 6, 6, 256)     1024      \n",
            "_________________________________________________________________\n",
            "time_distributed_14 (TimeDis (None, 20, 3, 3, 256)     0         \n",
            "_________________________________________________________________\n",
            "time_distributed_15 (TimeDis (None, 20, 2304)          0         \n",
            "_________________________________________________________________\n",
            "lstm (LSTM)                  (None, 256)               2622464   \n",
            "_________________________________________________________________\n",
            "dropout_10 (Dropout)         (None, 256)               0         \n",
            "_________________________________________________________________\n",
            "dense_18 (Dense)             (None, 256)               65792     \n",
            "_________________________________________________________________\n",
            "dropout_11 (Dropout)         (None, 256)               0         \n",
            "_________________________________________________________________\n",
            "dense_19 (Dense)             (None, 5)                 1285      \n",
            "=================================================================\n",
            "Total params: 3,084,133\n",
            "Trainable params: 3,083,141\n",
            "Non-trainable params: 992\n",
            "_________________________________________________________________\n",
            "None\n"
          ],
          "name": "stdout"
        }
      ]
    },
    {
      "cell_type": "code",
      "metadata": {
        "id": "dRaUAQ82kV2q",
        "outputId": "0bc29f78-5f59-4893-9a91-a8ab40583f6e"
      },
      "source": [
        "model_7_history = model_7.fit_generator(train_generator, steps_per_epoch=steps_per_epoch, epochs=num_epochs, verbose=1, \n",
        "            callbacks=callbacks_list, validation_data=val_generator, \n",
        "            validation_steps=validation_steps, class_weight=None, workers=1, initial_epoch=0)"
      ],
      "execution_count": null,
      "outputs": [
        {
          "output_type": "stream",
          "text": [
            "Source path =  datasets/Project_data/train ; batch size = 32\n",
            "Epoch 1/30\n",
            "21/21 [==============================] - ETA: 0s - loss: 1.3758 - categorical_accuracy: 0.4717Source path =  datasets/Project_data/val ; batch size = 32\n",
            "\n",
            "Epoch 00001: saving model to model_init_2021-06-0704_08_41.722991/model-00001-1.37583-0.47173-1.81653-0.21875.h5\n",
            "21/21 [==============================] - 91s 4s/step - loss: 1.3758 - categorical_accuracy: 0.4717 - val_loss: 1.8165 - val_categorical_accuracy: 0.2188\n",
            "Epoch 2/30\n",
            "21/21 [==============================] - ETA: 0s - loss: 0.9448 - categorical_accuracy: 0.6335\n",
            "Epoch 00002: saving model to model_init_2021-06-0704_08_41.722991/model-00002-0.94481-0.63354-1.83065-0.18750.h5\n",
            "21/21 [==============================] - 62s 3s/step - loss: 0.9448 - categorical_accuracy: 0.6335 - val_loss: 1.8307 - val_categorical_accuracy: 0.1875\n",
            "Epoch 3/30\n",
            "21/21 [==============================] - ETA: 0s - loss: 0.9411 - categorical_accuracy: 0.6450\n",
            "Epoch 00003: saving model to model_init_2021-06-0704_08_41.722991/model-00003-0.94108-0.64501-1.73664-0.12500.h5\n",
            "21/21 [==============================] - 56s 3s/step - loss: 0.9411 - categorical_accuracy: 0.6450 - val_loss: 1.7366 - val_categorical_accuracy: 0.1250\n",
            "Epoch 4/30\n",
            "21/21 [==============================] - ETA: 0s - loss: 0.7506 - categorical_accuracy: 0.7143\n",
            "Epoch 00004: saving model to model_init_2021-06-0704_08_41.722991/model-00004-0.75057-0.71429-1.71480-0.25000.h5\n",
            "21/21 [==============================] - 50s 2s/step - loss: 0.7506 - categorical_accuracy: 0.7143 - val_loss: 1.7148 - val_categorical_accuracy: 0.2500\n",
            "Epoch 5/30\n",
            "21/21 [==============================] - ETA: 0s - loss: 0.8734 - categorical_accuracy: 0.7465\n",
            "Epoch 00005: saving model to model_init_2021-06-0704_08_41.722991/model-00005-0.87341-0.74652-2.37980-0.12500.h5\n",
            "21/21 [==============================] - 45s 2s/step - loss: 0.8734 - categorical_accuracy: 0.7465 - val_loss: 2.3798 - val_categorical_accuracy: 0.1250\n",
            "Epoch 6/30\n",
            "21/21 [==============================] - ETA: 0s - loss: 0.7151 - categorical_accuracy: 0.7199\n",
            "Epoch 00006: saving model to model_init_2021-06-0704_08_41.722991/model-00006-0.71507-0.71989-2.50262-0.12500.h5\n",
            "21/21 [==============================] - 52s 2s/step - loss: 0.7151 - categorical_accuracy: 0.7199 - val_loss: 2.5026 - val_categorical_accuracy: 0.1250\n",
            "Epoch 7/30\n",
            "21/21 [==============================] - ETA: 0s - loss: 0.5868 - categorical_accuracy: 0.8039\n",
            "Epoch 00007: saving model to model_init_2021-06-0704_08_41.722991/model-00007-0.58680-0.80392-2.46705-0.25000.h5\n",
            "21/21 [==============================] - 46s 2s/step - loss: 0.5868 - categorical_accuracy: 0.8039 - val_loss: 2.4670 - val_categorical_accuracy: 0.2500\n",
            "Epoch 8/30\n",
            "21/21 [==============================] - ETA: 0s - loss: 0.6229 - categorical_accuracy: 0.7479\n",
            "Epoch 00008: saving model to model_init_2021-06-0704_08_41.722991/model-00008-0.62286-0.74790-2.03490-0.25000.h5\n",
            "\n",
            "Epoch 00008: ReduceLROnPlateau reducing learning rate to 0.0005000000237487257.\n",
            "21/21 [==============================] - 50s 2s/step - loss: 0.6229 - categorical_accuracy: 0.7479 - val_loss: 2.0349 - val_categorical_accuracy: 0.2500\n",
            "Epoch 9/30\n",
            "21/21 [==============================] - ETA: 0s - loss: 0.3735 - categorical_accuracy: 0.8599\n",
            "Epoch 00009: saving model to model_init_2021-06-0704_08_41.722991/model-00009-0.37347-0.85994-2.01661-0.25000.h5\n",
            "21/21 [==============================] - 45s 2s/step - loss: 0.3735 - categorical_accuracy: 0.8599 - val_loss: 2.0166 - val_categorical_accuracy: 0.2500\n",
            "Epoch 10/30\n",
            "21/21 [==============================] - ETA: 0s - loss: 0.3835 - categorical_accuracy: 0.8543\n",
            "Epoch 00010: saving model to model_init_2021-06-0704_08_41.722991/model-00010-0.38350-0.85434-2.23123-0.18750.h5\n",
            "21/21 [==============================] - 50s 2s/step - loss: 0.3835 - categorical_accuracy: 0.8543 - val_loss: 2.2312 - val_categorical_accuracy: 0.1875\n",
            "Epoch 11/30\n",
            "21/21 [==============================] - ETA: 0s - loss: 0.3326 - categorical_accuracy: 0.8711\n",
            "Epoch 00011: saving model to model_init_2021-06-0704_08_41.722991/model-00011-0.33263-0.87115-2.35907-0.25000.h5\n",
            "21/21 [==============================] - 43s 2s/step - loss: 0.3326 - categorical_accuracy: 0.8711 - val_loss: 2.3591 - val_categorical_accuracy: 0.2500\n",
            "Epoch 12/30\n",
            "21/21 [==============================] - ETA: 0s - loss: 0.2272 - categorical_accuracy: 0.9188\n",
            "Epoch 00012: saving model to model_init_2021-06-0704_08_41.722991/model-00012-0.22721-0.91877-2.51188-0.12500.h5\n",
            "\n",
            "Epoch 00012: ReduceLROnPlateau reducing learning rate to 0.0002500000118743628.\n",
            "21/21 [==============================] - 46s 2s/step - loss: 0.2272 - categorical_accuracy: 0.9188 - val_loss: 2.5119 - val_categorical_accuracy: 0.1250\n",
            "Epoch 13/30\n",
            "21/21 [==============================] - ETA: 0s - loss: 0.1712 - categorical_accuracy: 0.9440\n",
            "Epoch 00013: saving model to model_init_2021-06-0704_08_41.722991/model-00013-0.17121-0.94398-1.84251-0.31250.h5\n",
            "21/21 [==============================] - 46s 2s/step - loss: 0.1712 - categorical_accuracy: 0.9440 - val_loss: 1.8425 - val_categorical_accuracy: 0.3125\n",
            "Epoch 14/30\n",
            "21/21 [==============================] - ETA: 0s - loss: 0.1595 - categorical_accuracy: 0.9440\n",
            "Epoch 00014: saving model to model_init_2021-06-0704_08_41.722991/model-00014-0.15953-0.94398-2.13298-0.50000.h5\n",
            "21/21 [==============================] - 48s 2s/step - loss: 0.1595 - categorical_accuracy: 0.9440 - val_loss: 2.1330 - val_categorical_accuracy: 0.5000\n",
            "Epoch 15/30\n",
            "21/21 [==============================] - ETA: 0s - loss: 0.1342 - categorical_accuracy: 0.9552\n",
            "Epoch 00015: saving model to model_init_2021-06-0704_08_41.722991/model-00015-0.13416-0.95518-1.88204-0.31250.h5\n",
            "21/21 [==============================] - 46s 2s/step - loss: 0.1342 - categorical_accuracy: 0.9552 - val_loss: 1.8820 - val_categorical_accuracy: 0.3125\n",
            "Epoch 16/30\n",
            "21/21 [==============================] - ETA: 0s - loss: 0.0967 - categorical_accuracy: 0.9804\n",
            "Epoch 00016: saving model to model_init_2021-06-0704_08_41.722991/model-00016-0.09669-0.98039-1.97387-0.37500.h5\n",
            "\n",
            "Epoch 00016: ReduceLROnPlateau reducing learning rate to 0.0001250000059371814.\n",
            "21/21 [==============================] - 44s 2s/step - loss: 0.0967 - categorical_accuracy: 0.9804 - val_loss: 1.9739 - val_categorical_accuracy: 0.3750\n",
            "Epoch 17/30\n",
            "21/21 [==============================] - ETA: 0s - loss: 0.0814 - categorical_accuracy: 0.9776\n",
            "Epoch 00017: saving model to model_init_2021-06-0704_08_41.722991/model-00017-0.08141-0.97759-1.64637-0.31250.h5\n",
            "21/21 [==============================] - 49s 2s/step - loss: 0.0814 - categorical_accuracy: 0.9776 - val_loss: 1.6464 - val_categorical_accuracy: 0.3125\n",
            "Epoch 18/30\n",
            "21/21 [==============================] - ETA: 0s - loss: 0.0919 - categorical_accuracy: 0.9776\n",
            "Epoch 00018: saving model to model_init_2021-06-0704_08_41.722991/model-00018-0.09190-0.97759-2.02045-0.37500.h5\n",
            "21/21 [==============================] - 45s 2s/step - loss: 0.0919 - categorical_accuracy: 0.9776 - val_loss: 2.0205 - val_categorical_accuracy: 0.3750\n",
            "Epoch 19/30\n",
            "21/21 [==============================] - ETA: 0s - loss: 0.0755 - categorical_accuracy: 0.9804\n",
            "Epoch 00019: saving model to model_init_2021-06-0704_08_41.722991/model-00019-0.07547-0.98039-0.91777-0.75000.h5\n",
            "21/21 [==============================] - 51s 2s/step - loss: 0.0755 - categorical_accuracy: 0.9804 - val_loss: 0.9178 - val_categorical_accuracy: 0.7500\n",
            "Epoch 20/30\n",
            "21/21 [==============================] - ETA: 0s - loss: 0.0699 - categorical_accuracy: 0.9916\n",
            "Epoch 00020: saving model to model_init_2021-06-0704_08_41.722991/model-00020-0.06991-0.99160-0.63880-0.68750.h5\n",
            "21/21 [==============================] - 44s 2s/step - loss: 0.0699 - categorical_accuracy: 0.9916 - val_loss: 0.6388 - val_categorical_accuracy: 0.6875\n",
            "Epoch 21/30\n",
            "21/21 [==============================] - ETA: 0s - loss: 0.0774 - categorical_accuracy: 0.9692\n",
            "Epoch 00021: saving model to model_init_2021-06-0704_08_41.722991/model-00021-0.07743-0.96919-2.51528-0.43750.h5\n",
            "21/21 [==============================] - 49s 2s/step - loss: 0.0774 - categorical_accuracy: 0.9692 - val_loss: 2.5153 - val_categorical_accuracy: 0.4375\n",
            "Epoch 22/30\n",
            "21/21 [==============================] - ETA: 0s - loss: 0.0537 - categorical_accuracy: 0.9888\n",
            "Epoch 00022: saving model to model_init_2021-06-0704_08_41.722991/model-00022-0.05367-0.98880-1.93132-0.50000.h5\n",
            "21/21 [==============================] - 50s 2s/step - loss: 0.0537 - categorical_accuracy: 0.9888 - val_loss: 1.9313 - val_categorical_accuracy: 0.5000\n",
            "Epoch 23/30\n",
            "21/21 [==============================] - ETA: 0s - loss: 0.0499 - categorical_accuracy: 0.9944\n",
            "Epoch 00023: saving model to model_init_2021-06-0704_08_41.722991/model-00023-0.04993-0.99440-0.82406-0.75000.h5\n",
            "21/21 [==============================] - 47s 2s/step - loss: 0.0499 - categorical_accuracy: 0.9944 - val_loss: 0.8241 - val_categorical_accuracy: 0.7500\n",
            "Epoch 24/30\n",
            "21/21 [==============================] - ETA: 0s - loss: 0.0538 - categorical_accuracy: 0.9888\n",
            "Epoch 00024: saving model to model_init_2021-06-0704_08_41.722991/model-00024-0.05384-0.98880-1.04746-0.62500.h5\n",
            "\n",
            "Epoch 00024: ReduceLROnPlateau reducing learning rate to 6.25000029685907e-05.\n",
            "21/21 [==============================] - 50s 2s/step - loss: 0.0538 - categorical_accuracy: 0.9888 - val_loss: 1.0475 - val_categorical_accuracy: 0.6250\n",
            "Epoch 25/30\n",
            "21/21 [==============================] - ETA: 0s - loss: 0.0356 - categorical_accuracy: 0.9972\n",
            "Epoch 00025: saving model to model_init_2021-06-0704_08_41.722991/model-00025-0.03561-0.99720-0.71603-0.87500.h5\n",
            "21/21 [==============================] - 49s 2s/step - loss: 0.0356 - categorical_accuracy: 0.9972 - val_loss: 0.7160 - val_categorical_accuracy: 0.8750\n",
            "Epoch 26/30\n",
            "21/21 [==============================] - ETA: 0s - loss: 0.0406 - categorical_accuracy: 0.9916\n",
            "Epoch 00026: saving model to model_init_2021-06-0704_08_41.722991/model-00026-0.04059-0.99160-0.77940-0.56250.h5\n",
            "21/21 [==============================] - 46s 2s/step - loss: 0.0406 - categorical_accuracy: 0.9916 - val_loss: 0.7794 - val_categorical_accuracy: 0.5625\n",
            "Epoch 27/30\n",
            "21/21 [==============================] - ETA: 0s - loss: 0.0383 - categorical_accuracy: 0.9972\n",
            "Epoch 00027: saving model to model_init_2021-06-0704_08_41.722991/model-00027-0.03829-0.99720-0.69605-0.87500.h5\n",
            "21/21 [==============================] - 47s 2s/step - loss: 0.0383 - categorical_accuracy: 0.9972 - val_loss: 0.6960 - val_categorical_accuracy: 0.8750\n",
            "Epoch 28/30\n",
            "21/21 [==============================] - ETA: 0s - loss: 0.0304 - categorical_accuracy: 1.0000\n",
            "Epoch 00028: saving model to model_init_2021-06-0704_08_41.722991/model-00028-0.03041-1.00000-0.76546-0.75000.h5\n",
            "\n",
            "Epoch 00028: ReduceLROnPlateau reducing learning rate to 3.125000148429535e-05.\n",
            "21/21 [==============================] - 45s 2s/step - loss: 0.0304 - categorical_accuracy: 1.0000 - val_loss: 0.7655 - val_categorical_accuracy: 0.7500\n",
            "Epoch 29/30\n",
            "21/21 [==============================] - ETA: 0s - loss: 0.0319 - categorical_accuracy: 0.9972\n",
            "Epoch 00029: saving model to model_init_2021-06-0704_08_41.722991/model-00029-0.03192-0.99720-0.35948-0.87500.h5\n",
            "21/21 [==============================] - 45s 2s/step - loss: 0.0319 - categorical_accuracy: 0.9972 - val_loss: 0.3595 - val_categorical_accuracy: 0.8750\n",
            "Epoch 30/30\n",
            "21/21 [==============================] - ETA: 0s - loss: 0.0234 - categorical_accuracy: 1.0000\n",
            "Epoch 00030: saving model to model_init_2021-06-0704_08_41.722991/model-00030-0.02345-1.00000-0.58710-0.87500.h5\n",
            "21/21 [==============================] - 44s 2s/step - loss: 0.0234 - categorical_accuracy: 1.0000 - val_loss: 0.5871 - val_categorical_accuracy: 0.8750\n"
          ],
          "name": "stdout"
        }
      ]
    },
    {
      "cell_type": "code",
      "metadata": {
        "id": "ppr9TAnukV2q",
        "outputId": "30899f62-a103-4ac4-bd98-14097ce9086f"
      },
      "source": [
        "plottingModelHistory(model_7_history)"
      ],
      "execution_count": null,
      "outputs": [
        {
          "output_type": "display_data",
          "data": {
            "image/png": "[encoded data removed]",
            "text/plain": [
              "<Figure size 1080x288 with 2 Axes>"
            ]
          },
          "metadata": {
            "tags": [],
            "needs_background": "light"
          }
        },
        {
          "output_type": "stream",
          "text": [
            "\u001b[1m Maximum Training Accuracy 100.0 %\n",
            "\u001b[1m Maximum Validaiton Accuracy 87.5 %\n"
          ],
          "name": "stdout"
        }
      ]
    },
    {
      "cell_type": "code",
      "metadata": {
        "id": "r8dPbI5bkV2r"
      },
      "source": [
        ""
      ],
      "execution_count": null,
      "outputs": []
    }
  ]
}